{
 "cells": [
  {
   "cell_type": "code",
   "execution_count": 4,
   "metadata": {},
   "outputs": [],
   "source": [
    "import numpy as np\n",
    "import datetime\n",
    "from  datetime import date"
   ]
  },
  {
   "cell_type": "code",
   "execution_count": 27,
   "metadata": {},
   "outputs": [
    {
     "data": {
      "text/plain": [
       "str"
      ]
     },
     "execution_count": 27,
     "metadata": {},
     "output_type": "execute_result"
    }
   ],
   "source": [
    "type('1')\n",
    "type(0)\n",
    "type(1.1)\n",
    "\n",
    "type(1.1+1)\n",
    "type('1.1'+'1')"
   ]
  },
  {
   "cell_type": "code",
   "execution_count": 32,
   "metadata": {},
   "outputs": [
    {
     "data": {
      "text/plain": [
       "6"
      ]
     },
     "execution_count": 32,
     "metadata": {},
     "output_type": "execute_result"
    }
   ],
   "source": [
    "1 + 1\n",
    "1 - 1\n",
    "1/2\n",
    "3%2\n",
    "3**2\n",
    "3*2"
   ]
  },
  {
   "cell_type": "code",
   "execution_count": 39,
   "metadata": {},
   "outputs": [
    {
     "data": {
      "text/plain": [
       "True"
      ]
     },
     "execution_count": 39,
     "metadata": {},
     "output_type": "execute_result"
    }
   ],
   "source": [
    "(1 > 2) & (1<2)\n",
    "(1 > 2) | (1<2)"
   ]
  },
  {
   "cell_type": "code",
   "execution_count": 46,
   "metadata": {},
   "outputs": [
    {
     "data": {
      "text/plain": [
       "2"
      ]
     },
     "execution_count": 46,
     "metadata": {},
     "output_type": "execute_result"
    }
   ],
   "source": [
    "list1 = ['1', 0, [1,2]]\n",
    "list1[2][1]"
   ]
  },
  {
   "cell_type": "code",
   "execution_count": 5,
   "metadata": {},
   "outputs": [],
   "source": [
    "#Ejemplo clásico Moneda\n",
    "universo = ['cara', 'sello']"
   ]
  },
  {
   "cell_type": "code",
   "execution_count": 7,
   "metadata": {},
   "outputs": [],
   "source": [
    "# Para simular el resultado del experimento usamos Bernoulli\n",
    "# Y tiene una probabilidad de exito p asociada\n",
    "p_cara = 1/2"
   ]
  },
  {
   "cell_type": "code",
   "execution_count": 10,
   "metadata": {},
   "outputs": [
    {
     "output_type": "execute_result",
     "data": {
      "text/plain": [
       "5"
      ]
     },
     "metadata": {},
     "execution_count": 10
    }
   ],
   "source": [
    "# La variable Bernoulli solo puede tener valores binarios de 0 o 1. \n",
    "from scipy.stats import bernoulli\n",
    "# Usamos la función de rvs(). Random Variable Sample, al correr varias veces arroja diferentes valores.\n",
    "# Al acceder al universo de datos y le pasamos como parámetro.\n",
    "universo[bernoulli.rvs(p=p_cara)]\n",
    "# Con el parámetro size me devuelve un array de los n lanzamientos ejecutados, sirve para repetir varias veces el experimento.\n",
    "#Con esto se obtiene una lista de posibles eventos de si tuvimos cara o sello \n",
    "bernoulli.rvs(p=p_cara, size = 10)\n",
    "# Distribución binomial, es una suma de n experimentos de bernoulli.\n",
    "#uma binomial: la cantidad de veces que sale un valor en un evento de n repeticiones\n",
    "sum(bernoulli.rvs(p=p_cara, size = 10)) #Nos trae la suma de esos 10 lanzamientos \n",
    "\n"
   ]
  },
  {
   "cell_type": "code",
   "execution_count": 15,
   "metadata": {},
   "outputs": [],
   "source": [
    "# Se puede hacer con esto el binomial.\n",
    "from scipy.stats import binom"
   ]
  },
  {
   "cell_type": "code",
   "execution_count": 16,
   "metadata": {},
   "outputs": [
    {
     "output_type": "execute_result",
     "data": {
      "text/plain": [
       "array([4, 4, 4, 6, 5, 5, 4, 5, 7, 5, 5, 5, 9, 4, 5, 5, 3, 6, 9, 3, 4, 2,\n",
       "       3, 7, 3, 5, 4, 7, 4, 4, 6, 6, 8, 7, 6, 2, 5, 6, 6, 4, 6, 7, 8, 7,\n",
       "       7, 4, 5, 5, 4, 6, 3, 3, 8, 2, 3, 6, 5, 5, 5, 4, 6, 4, 5, 6, 6, 5,\n",
       "       6, 5, 4, 9, 5, 5, 6, 4, 6, 9, 5, 4, 7, 6, 7, 7, 4, 6, 4, 5, 2, 7,\n",
       "       5, 6, 5, 4, 6, 4, 5, 7, 6, 2, 3, 3])"
      ]
     },
     "metadata": {},
     "execution_count": 16
    }
   ],
   "source": [
    "# Generamos una muestra de la variable de Bernoulli.\n",
    "# Distribución binomial, es una suma de n experimentos de bernoulli.\n",
    "#uma binomial: la cantidad de veces que sale un valor en un evento de n repeticiones\n",
    "binom.rvs( p=p_cara, n = 10, size= 100)\n",
    "# Esto nos permite identificar la distribución de probabilidad. Algunos valores tienen más probabilidad de darse."
   ]
  },
  {
   "cell_type": "code",
   "execution_count": 20,
   "metadata": {},
   "outputs": [
    {
     "output_type": "execute_result",
     "data": {
      "text/plain": [
       "5    0.25\n",
       "6    0.19\n",
       "4    0.14\n",
       "7    0.14\n",
       "3    0.10\n",
       "2    0.08\n",
       "8    0.04\n",
       "9    0.04\n",
       "1    0.02\n",
       "dtype: float64"
      ]
     },
     "metadata": {},
     "execution_count": 20
    }
   ],
   "source": [
    "# Importamos pandas para calcular esta serie como un data frame.\n",
    "# Value counts nos devuelve la frecuencia que más se repite. En este caso 5. Al dividir sobre /100 nos devuelve una probabilidad de los casos totales evaluados.\n",
    "import pandas as pd\n",
    "pd.Series(binom.rvs( p=p_cara, n = 10, size= 100)).value_counts()/100"
   ]
  },
  {
   "cell_type": "code",
   "execution_count": null,
   "metadata": {},
   "outputs": [],
   "source": []
  }
 ],
 "metadata": {
  "kernelspec": {
   "display_name": "Python 3",
   "language": "python",
   "name": "python3"
  },
  "language_info": {
   "codemirror_mode": {
    "name": "ipython",
    "version": 3
   },
   "file_extension": ".py",
   "mimetype": "text/x-python",
   "name": "python",
   "nbconvert_exporter": "python",
   "pygments_lexer": "ipython3",
   "version": "3.7.9"
  }
 },
 "nbformat": 4,
 "nbformat_minor": 2
}
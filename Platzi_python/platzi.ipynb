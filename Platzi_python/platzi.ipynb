{
 "metadata": {
  "language_info": {
   "codemirror_mode": {
    "name": "ipython",
    "version": 3
   },
   "file_extension": ".py",
   "mimetype": "text/x-python",
   "name": "python",
   "nbconvert_exporter": "python",
   "pygments_lexer": "ipython3",
   "version": "3.7.9-final"
  },
  "orig_nbformat": 2,
  "kernelspec": {
   "name": "python3",
   "display_name": "Python 3.7.9 64-bit (conda)",
   "metadata": {
    "interpreter": {
     "hash": "f686fdc118ffc4aa3cfc49dea14bffa512884a21c608738156b0199a3b72a68c"
    }
   }
  }
 },
 "nbformat": 4,
 "nbformat_minor": 2,
 "cells": [
  {
   "source": [
    "# Pensamiento Computacional Python"
   ],
   "cell_type": "markdown",
   "metadata": {}
  },
  {
   "source": [
    "#### PROGRAMACIÓN EXHAUSTIVA \n",
    "\n",
    "A punto de enumeración exhaustiva Dr Strange se puso a ver en que futuro los vengadores ganaban a Thanos. \n",
    "\n",
    "Enumeración exhaustiva: También llamado \"Adivina y verifica\", en donde simplemente enumeramos todas las posibilidades. \n",
    "Es uno de los primeros algoritmos que se deben tratar. "
   ],
   "cell_type": "markdown",
   "metadata": {}
  },
  {
   "cell_type": "code",
   "execution_count": null,
   "metadata": {},
   "outputs": [],
   "source": [
    "#Determinar si un número tiene un raiz cuadrada exacta. \n",
    "\n",
    "objetivo = int(input('Ecoge un entero: '))\n",
    "respuesta = 0\n",
    "\n",
    "while respuesta**2 < objetivo:\n",
    "    respuesta +=1\n",
    "\n",
    "if respuesta**2 == objetivo:\n",
    "    print(f'La raiz cuadrada de {objetivo} es {respuesta}')\n",
    "else:\n",
    "    print(f'{objetivo} no tiene una raiz cuadrada exacta')"
   ]
  },
  {
   "source": [
    "#### APROXIMACIÓN DE SOLUCIONES\n",
    "\n",
    "Cuando nosotros vamos aproximar una solución, tenemos que definir que tan cerca queremos estar de esta solución y a está diferencia entre la realidad y la aproximación nosotros le vamos a llamar epsilon, .\n",
    "\n",
    "Nosotros no podemos ser rápidos y precisos a la vez, mientras más nos acercamos a la solución, a nosotros nos va a tocar hacer más ciclos de computo para llegar a esta solución \n"
   ],
   "cell_type": "markdown",
   "metadata": {}
  },
  {
   "cell_type": "code",
   "execution_count": null,
   "metadata": {
    "tags": [
     "outputPrepend"
    ]
   },
   "outputs": [],
   "source": [
    "objetivo = int(input('Escoge un numero: '))\n",
    "epsilon = 0.01 #Que tan preciso queremos ser \n",
    "paso = epsilon**2 #Que tanto nos vamos acercar en cada iteración\n",
    "respuesta = 0.0\n",
    "\n",
    "#abs (regresa el valor absuluto)\n",
    "while abs(respuesta**2 - objetivo) >= epsilon and respuesta <=objetivo:\n",
    "    #print(abs(respuesta**2 - objetivo), respuesta)\n",
    "    respuesta += paso\n",
    "\n",
    "if abs(respuesta**2 - objetivo ) >= epsilon:\n",
    "    print(f'No s encontro la raiz cuadrada {objetivo}')\n",
    "else:\n",
    "    print(f'La raiz cuadrada de {objetivo} es {respuesta}')\n"
   ]
  },
  {
   "source": [
    "#### BUSQUEDA BINARIA"
   ],
   "cell_type": "markdown",
   "metadata": {}
  },
  {
   "cell_type": "code",
   "execution_count": null,
   "metadata": {
    "tags": []
   },
   "outputs": [],
   "source": [
    "objetivo = int(input('Escoge un número: '))\n",
    "epsilon= 0.01\n",
    "bajo = 0.0\n",
    "alto = max(1.0, objetivo)\n",
    "respuesta = (alto + bajo)/2\n",
    "\n",
    "while abs(respuesta**2 - objetivo) >= epsilon:  \n",
    "    print(f'bajo = {bajo}, alto={alto}, respuesta = {respuesta}')\n",
    "    if respuesta**2 < objetivo:\n",
    "        bajo = respuesta\n",
    "    else:\n",
    "        alto = respuesta \n",
    "\n",
    "    respuesta = (alto + bajo)/2\n",
    "print(f'la raiz cuadrada de {objetivo} es {respuesta}')"
   ]
  },
  {
   "cell_type": "code",
   "execution_count": null,
   "metadata": {},
   "outputs": [],
   "source": [
    "#Forma explicada de cada uno de los pasos. \n",
    "\n",
    "# numero al que se le calculará la raiz cuadrada\n",
    "objetivo = int(input('Escoge un numero: '))\n",
    "\n",
    "# margen de error para encontrar esa raiz cuadrada\n",
    "epsilon = 0.01\n",
    "\n",
    "# valor minimo para calcular largo del conjunto\n",
    "bajo = 0.0\n",
    "\n",
    "# valor maximo para calcular largo de conjunto. Función max() >> elegirá el valor máximo de los parámetros que le demos; colocamos 1.0 como valor mínimo aceptado (así nos cubrimos de que, por ejemplo, el usuario coloque un valor negativo), y objetivo (valor que nos dará el usuario)\n",
    "alto = max(1.0, objetivo)\n",
    "\n",
    "# aqui generamos el valor medio de nuestro conjunto, a lo cual se puede genera el condicional (if) para elegir la mitad menor o la mitad mayor.\n",
    "respuesta = (alto + bajo) / 2\n",
    "\n",
    "# para entender esto, lo más fácil es imaginar que el while saltará de un grupo de mitades a otro, dependiendo de la situación, hasta que el grupo se divida lo suficiente como para dar con el objetivo.\n",
    "\n",
    "# el while comienza diciendo que, hasta que la respuesta de con el resultado (con un margen de error de 0.01, es decir epsilon), se hará la iteración del paso 2 de este algoritmo. \n",
    "while abs(respuesta**2 - objetivo) >= epsilon:\n",
    "    # si respuesta**2 no es mayor que objetivo, quiere decir que respuesta debe ser mayor (de respuesta para abajo, no nos sirve; nos sirve el rango de respuesta para arriba). \n",
    "    # RECORDAR: respuesta es el valor medio del conjunto que estamos analizando (mirar más arriba)\n",
    "    if respuesta**2 < objetivo:\n",
    "        # como sabemos que de respuesta para abajo no tenemos un valor que nos sirva, actualizamos el piso (bajo) de nuestro conjunto a el valor actual de respuesta.\n",
    "        bajo = respuesta\n",
    "    # si respuesta**2 es mayor que objetivo, quiere decir que respuesta debe ser menor (de respuesta para arriba, no nos sirve; nos sirve el rango de respuesta para abajo)\n",
    "    else:\n",
    "        # como sabemos que respuesta para arriba no tenemos un valor que nos sirva, actualizamos el techo (alto) de nuestro conjunto a el valor actual de respuesta\n",
    "        alto = respuesta\n",
    "\n",
    "    # Saliendo del else, ejecutamos el código para que respuesta (punto medio de nuestro conjunto) se actualice al nuevo conjunto.\n",
    "    respuesta = (alto + bajo) / 2\n",
    "\n",
    "##################################\n",
    "# Repitiendo este loop, llegará un punto en el que el conjunto sea muy pequeño, y hallaremos la raiz cuadrada.\n",
    "# Los loops necesarios serán mucho menos que si usamos busqueda exhaustiva o aproximacion\n",
    "\n",
    "print(f'La raiz cuadrada de {objetivo} es {respuesta}')"
   ]
  },
  {
   "cell_type": "code",
   "execution_count": null,
   "metadata": {},
   "outputs": [],
   "source": [
    "#Encapsulamiento programas anteriores\n",
    "\n",
    "def program_exhaustiva (objetivo):\n",
    "    respuesta = 0\n",
    "    while respuesta**2 < objetivo:\n",
    "        respuesta += 1\n",
    "    if respuesta**2 == objetivo:\n",
    "        print(f'La raiz cuadrada de {objetivo} es {respuesta}')\n",
    "    else:\n",
    "        print(f'{objetivo} no tiene una raiz cuadrada exacta')\n",
    "\n",
    "def aproximacion(objetivo):\n",
    "    epsilon = 0.01 #Que tan preciso queremos ser \n",
    "    paso = epsilon**2 #Que tanto nos vamos acercar en cada iteración\n",
    "    respuesta = 0.0\n",
    "\n",
    "    #abs (regresa el valor absuluto)\n",
    "    while abs(respuesta**2 - objetivo) >= epsilon and respuesta <=objetivo:\n",
    "        #print(abs(respuesta**2 - objetivo), respuesta)\n",
    "        respuesta += paso\n",
    "\n",
    "    if abs(respuesta**2 - objetivo ) >= epsilon:\n",
    "        print(f'No s encontro la raiz cuadrada {objetivo}')\n",
    "    else:\n",
    "        print(f'La raiz cuadrada de {objetivo} es {respuesta}')\n",
    "\n",
    "def aprox_binaria(objetivo):\n",
    "    epsilon= 0.01\n",
    "    bajo = 0.0\n",
    "    alto = max(1.0, objetivo)\n",
    "    respuesta = (alto + bajo)/2\n",
    "\n",
    "    while abs(respuesta**2 - objetivo) >= epsilon:  \n",
    "        #print(f'bajo = {bajo}, alto={alto}, respuesta = {respuesta}')\n",
    "        if respuesta**2 < objetivo:\n",
    "            bajo = respuesta\n",
    "        else:\n",
    "            alto = respuesta \n",
    "\n",
    "        respuesta = (alto + bajo)/2\n",
    "    print(f'la raiz cuadrada de {objetivo} es {respuesta}')\n",
    "\n",
    "\n",
    "def run():\n",
    "  print('\\n¡Bienvenido! Calculemos la raiz de un numero')\n",
    "  objetivo = int(input('Escribe el numero que deseas calcular: '))\n",
    "  opcion = int(input('\\n 1. Enumeracion Exhaustiva \\n 2. Aproximacion \\n 3. Busqueda Binaria \\n ¿Que opción eliges?: '))\n",
    "\n",
    "  if opcion == 1:\n",
    "    program_exhaustiva(objetivo)\n",
    "    #enumeracion_exhaustiva(objetivo)\n",
    "  elif opcion == 2:\n",
    "    aproximacion(objetivo)\n",
    "  elif opcion == 3:\n",
    "    aprox_binaria(objetivo)\n",
    "    #busqueda_binaria(objetivo)\n",
    "  else:\n",
    "    print('Ingresa una opcion valida')\n",
    "\n",
    "if __name__ == '__main__':\n",
    "  run()\n"
   ]
  },
  {
   "source": [
    "### Factoriales\n",
    "\n",
    "https://www.youtube.com/watch?v=Qk0zUZW-U_M"
   ],
   "cell_type": "markdown",
   "metadata": {}
  },
  {
   "cell_type": "code",
   "execution_count": null,
   "metadata": {},
   "outputs": [],
   "source": [
    "·El problema es que es ineficiente, ya que consume demasiados recursos. \n",
    "def factorial(n):\n",
    "    \"\"\"Calucula el factorial de n.\n",
    "\n",
    "    n int >0\n",
    "    return n!\n",
    "    \"\"\"\n",
    "    if n ==1:\n",
    "        return 1\n",
    "    return n *factorial(n-1) #Aquí es donde se utiliza el tema de recursividad. \n",
    "\n",
    "n = int(input('Escriba un entero: '))\n",
    "\n",
    "print(factorial(n))"
   ]
  },
  {
   "cell_type": "code",
   "execution_count": null,
   "metadata": {},
   "outputs": [],
   "source": [
    "def fibonacci(n):\n",
    "    if n == 0 or n == 1:\n",
    "        return 1\n",
    "\n",
    "    return fibonacci(n - 1) + fibonacci(n - 2)"
   ]
  },
  {
   "source": [
    "Existe una cura y es la **MEMORIZACIÓN**, La idea detrás es simple. Almacene los valores de las llamadas actuales, para que las llamadas futras no tengan que repetirel trabajo. \n",
    "\n",
    "1. vamos a implmentar memoria explicitamente para ver como funciona.\n",
    "2. Usaremos una herramienta integrada de Python para realizar la memorización de una manera trivial. \n",
    "\n"
   ],
   "cell_type": "markdown",
   "metadata": {}
  },
  {
   "cell_type": "code",
   "execution_count": null,
   "metadata": {},
   "outputs": [],
   "source": [
    "fibonacci_cache ={} # Almacena las funciones llamadas recientemente. \n",
    "\n",
    "#Función de Fibonacci para usar los valores almacenados en caché. \n",
    "def fibonacci(n):\n",
    "    #Sí nosotros tenemos el valor en Caché, retorna el valor\n",
    "    if n in fibonacci_cache:\n",
    "        return fibonacci_cache[n]\n",
    "    #Sí no está, calculamos el termino. \n",
    "    if n==1:\n",
    "        value =1\n",
    "    elif n==2:\n",
    "        value = 2\n",
    "    elif n >2:\n",
    "        value= fibonacci(n-1) + fibonacci(n-2) #Hacemos una llamada recursiva para calcular el termino n \n",
    "    #Almacene el valor devuelto en Caché y devuelvalo\n",
    "    fibonacci_cache[n] = value\n",
    "    return value\n",
    "\n",
    "for n in range(1, 100):\n",
    "    print(n, \":\", fibonacci(n))\n",
    "print(fibonacci_cache)"
   ]
  },
  {
   "source": [
    "En este caso se utiliza una herramienta de python LRU Cache -> Least Recently Used Cache (Caché menos utilizada recientemente) y permite una forma de aplicar la memorización a sus funciones con solo una linea. \n",
    "\n",
    "Una función Simple con un rendimiento rápido."
   ],
   "cell_type": "markdown",
   "metadata": {}
  },
  {
   "cell_type": "code",
   "execution_count": null,
   "metadata": {
    "tags": []
   },
   "outputs": [],
   "source": [
    "from functools import lru_cache \n",
    "#Para usar, se agrega @lru_cache() antes de la función\n",
    "@lru_cache(maxsize = 1000)\n",
    "def fibonacci(n):\n",
    "    if type(n) !=int:\n",
    "        raise TypeError(\"n debe ser un int positivo\")\n",
    "    if n<1: \n",
    "        raise ValueError(\"n dede ser un entero Positivo\")\n",
    "    if n==1:\n",
    "        return  1\n",
    "    elif n==2:\n",
    "        return  2\n",
    "    elif n >2:\n",
    "        return fibonacci(n-1) + fibonacci(n-2)\n",
    "print(fibonacci(\"one\"))\n",
    "#for n in range(1, 501):\n",
    "#    print(n, \":\", fibonacci(n))"
   ]
  },
  {
   "source": [
    "### FUNCIONES COMO OBJETOS\n",
    "\n",
    "Una de las características más poderosas de Python es que todo es un objeto, incluyendo las funciones. Las funciones en Python son “ciudadanos de primera clase”.\n",
    "\n",
    "Esto, en sentido amplio, significa que en Python las funciones:\n",
    "\n",
    "- Tienen un tipo\n",
    "- Se pueden pasar como argumentos de otras funciones\n",
    "- Se pueden utilizar en expresiones\n",
    "- Se pueden incluir en varias estructuras de datos (como listas, tuplas, diccionarios, etc.)\n",
    "\n",
    "##### ARGUMENTOS DE OTRAS FUNCIONES\n",
    "Hasta ahora hemos visto que las funciones pueden recibir parámetros para realizar los cómputos que definen. Algunos de los tipos que hemos pasado son tipos simples como cadenas, números, listas, etc. Sin embargo, también pueden recibir funciones para crear abstracciones más poderosas. Veamos un ejemplo:"
   ],
   "cell_type": "markdown",
   "metadata": {}
  },
  {
   "cell_type": "code",
   "execution_count": null,
   "metadata": {},
   "outputs": [],
   "source": [
    "def multiplicar_por_dos(n):\n",
    "    return n * 2\n",
    "\n",
    "def sumar_dos(n):\n",
    "    return n + 2\n",
    "\n",
    "def aplicar_operacion(f, numeros):\n",
    "    resultados = []\n",
    "    for numero in numeros:\n",
    "        resultado = f(numero)\n",
    "        resultados.append(resultado)\n",
    "    return resultado\n",
    "\n",
    ">>> nums = [1, 2, 3]\n",
    ">>> aplicar_operacion(multiplicar_por_dos, nums)\n",
    "[2, 4, 6]\n",
    "\n",
    ">>> aplicar_operacion(sumar_dos, nums)\n",
    "[3, 4, 5]"
   ]
  },
  {
   "source": [
    "#### FUNCIONES EN EXPRESIONES\n",
    "Una forma de definir una función en una expresión es utilizando el keyword lambda. `lambda` tiene la siguiente sintaxis: `lambda <vars> : <expresion>`.\n",
    "\n",
    "Otro ejemplo interesante es que las funciones se pueden utilizar en una expresión directamente. Esto es posible ya que como lo hemos platicado con anterioridad, en Python las variables son simplemente nombres que apuntan a un objeto (en este caso a una función). Por ejemplo:\n"
   ],
   "cell_type": "markdown",
   "metadata": {}
  },
  {
   "cell_type": "code",
   "execution_count": 42,
   "metadata": {},
   "outputs": [
    {
     "output_type": "execute_result",
     "data": {
      "text/plain": [
       "5"
      ]
     },
     "metadata": {},
     "execution_count": 42
    }
   ],
   "source": [
    "sumar = lambda x, y: x + y\n",
    "sumar(2,3)"
   ]
  },
  {
   "source": [
    "#### FUNCIONES EN ESTRUCTURAS DE DATOS\n",
    "Las funciones también se pueden incluir en diversas estructuras que las permiten almacenar. Por ejemplo, una lista puede guardar diversas funciones a aplicar o un diccionario las puede almacenar como valores."
   ],
   "cell_type": "markdown",
   "metadata": {}
  },
  {
   "cell_type": "code",
   "execution_count": 43,
   "metadata": {},
   "outputs": [
    {
     "output_type": "execute_result",
     "data": {
      "text/plain": [
       "[2, -2.0]"
      ]
     },
     "metadata": {},
     "execution_count": 43
    }
   ],
   "source": [
    "def aplicar_operaciones(num):\n",
    "    operaciones = [abs, float]\n",
    "\n",
    "    resultado = []\n",
    "    for operacion in operaciones:\n",
    "        resultado.append(operacion(num))\n",
    "\n",
    "    return resultado\n",
    "\n",
    "aplicar_operaciones(-2)"
   ]
  },
  {
   "source": [
    "Como pudimos ver, las funciones son objetos muy versátiles que nos permiten tratarlas de diversas maneras y que nos permiten añadir capas adicionales de abstracción a nuestro programa.\n",
    "\n",
    "Compártenos cómo te imaginas que estas capacidades de Python te pueden ayudar a escribir mejores programas."
   ],
   "cell_type": "markdown",
   "metadata": {}
  },
  {
   "source": [
    "## Tipos Estructuradoos, mutabilidad y funciones de alto nivel\n",
    "\n",
    "#### LISTAS"
   ],
   "cell_type": "markdown",
   "metadata": {}
  },
  {
   "cell_type": "code",
   "execution_count": null,
   "metadata": {},
   "outputs": [],
   "source": [
    "Crear una lista:\n",
    "mylist = ['one', 20, 5.5, [10, 15], 'five']\n",
    "\n",
    "listas mutables:\n",
    "mylist = ['one', 'two', 'three', 'four', 'five']\n",
    "mylist[2] = \"New item\"\n",
    "Si el índice es negativo, cuenta desde el último elemento.\n",
    "elem = mylist[-1]\n",
    "\n",
    "Recorrer una lista:\n",
    "for elem in mylist:\n",
    "print(elem)\n",
    "\n",
    "Actualizar elementos:\n",
    "mylist = [1, 2, 3, 4, 5]\n",
    "for i in range(len(mylist)):\n",
    "    mylist[i]+=5\n",
    "print(mylist)\n",
    "\n",
    "mylist = ['one', 20, 5.5, [10, 15], 'five']\n",
    "print(len(mylist))\n",
    "\n",
    "Cortar una lista:\n",
    "mylist = ['one', 'two', 'three', 'four', 'five']\n",
    "mylist[1:3] = ['Hello', 'Seven']\n",
    "print(mylist)\n",
    "\n",
    "Insertar en una lista:\n",
    "mylist = [1, 2, 3, 4, 5]\n",
    "mylist.insert(1, 'Hello')\n",
    "print(mylist)\n",
    "\n",
    "Agregar a una lista al final:\n",
    "mylist = ['one', 'two', 'three', 'four', 'five']\n",
    "mylist.append(\"new one\")\n",
    "\n",
    "mylist = ['one', 'two', 'three', 'four', 'five']\n",
    "list2 = [\"Hello\", \"new one\"]\n",
    "mylist.extend(list2)\n",
    "print(mylist)\n",
    "\n",
    "Ordenar una Lista:\n",
    "mylist = ['cde', 'fgh', 'abc', 'klm', 'opq']\n",
    "list = [3, 5, 2, 4, 1]\n",
    "mylist.sort()\n",
    "list.sort()\n",
    "print(mylist)\n",
    "print(list)\n",
    "\n",
    "Invertir una lista:\n",
    "mylist = [1, 2, 3, 4, 5]\n",
    "mylist.reverse()\n",
    "print(mylist)\n",
    "\n",
    "Indice de un elemento:\n",
    "mylist = ['one', 'two', 'three', 'four', 'five']\n",
    "print(mylist.index('two'))\n",
    "\n",
    "Eliminar un elemento:\n",
    "mylist = ['one', 'two', 'three', 'four', 'five']\n",
    "removed = mylist.pop(2)\n",
    "print(mylist)\n",
    "print(removed)\n",
    "\n",
    "mylist.remove('two')\n",
    "del mylist[2]\n",
    "\n",
    "mylist = ['one', 'two', 'three', 'four', 'five']\n",
    "del mylist[1:3]\n",
    "print(mylist)\n",
    "\n",
    "Funciones agregadas:\n",
    "mylist = [5, 3, 2, 4, 1]\n",
    "print(len(mylist))\n",
    "print(min(mylist))\n",
    "print(max(mylist))\n",
    "print(sum(mylist))\n",
    "\n",
    "Comparar listas:\n",
    "mylist = ['one', 'two', 'three', 'four', 'five']\n",
    "list2 = ['four', 'one', 'two', 'five', 'three']\n",
    "if (mylist == list2):\n",
    "     print(\"match\")\n",
    "else:\n",
    "     print(\"No match\")\n",
    "\n",
    "Operaciones matematicas en las listas:\n",
    "list1 = [1, 2, 3]\n",
    "list2 = [4, 5, 6]\n",
    "print(list1 + list2)\n",
    "print(list1 * 2)\n",
    "\n",
    "Listas y cadenas:\n",
    "mystr = \"LikeGeeks\"\n",
    "mylist = list(mystr)\n",
    "print(mylist)\n",
    "\n",
    "mystr = \"LikeGeeks\"\n",
    "mystr = \"Welcome to likegeeks website\"\n",
    "mylist = mystr.split()\n",
    "print(mylist)\n",
    "\n",
    "Unir una lista:\n",
    "mylist = ['Welcome', 'to', 'likegeeks', 'website']\n",
    "delimiter = ' '\n",
    "output = delimiter.join(mylist)\n",
    "print(output)\n",
    "\n",
    "Aliasing:\n",
    "mylist = ['Welcome', 'to', 'likegeeks', 'website']\n",
    "list2 = mylist\n",
    "list2[3] = \"page\"\n",
    "print(mylist)\n"
   ]
  }
 ]
}
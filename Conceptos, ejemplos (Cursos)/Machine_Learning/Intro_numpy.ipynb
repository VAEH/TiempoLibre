{
 "metadata": {
  "language_info": {
   "codemirror_mode": {
    "name": "ipython",
    "version": 3
   },
   "file_extension": ".py",
   "mimetype": "text/x-python",
   "name": "python",
   "nbconvert_exporter": "python",
   "pygments_lexer": "ipython3",
   "version": "3.7.6-final"
  },
  "orig_nbformat": 2,
  "kernelspec": {
   "name": "python3",
   "display_name": "Python 3",
   "language": "python"
  }
 },
 "nbformat": 4,
 "nbformat_minor": 2,
 "cells": [
  {
   "source": [
    "# Introducción a Numpy\n"
   ],
   "cell_type": "markdown",
   "metadata": {}
  },
  {
   "source": [
    "Acometer un proyecto de Machine Learning o IA requiere un manejo intensivo y eficaz de cálculo matricial, y NumPy pone a nuestra disposición toda esa potencia. La libraría dispone de un montón de herramientas y capacidades.\n",
    "\n",
    "Vamos a crear una matriz:"
   ],
   "cell_type": "markdown",
   "metadata": {}
  },
  {
   "cell_type": "code",
   "execution_count": 3,
   "metadata": {},
   "outputs": [
    {
     "output_type": "stream",
     "name": "stdout",
     "text": [
      "[[1 2 3 4]\n [5 6 7 8]]\n"
     ]
    }
   ],
   "source": [
    "#Importa la libreria\n",
    "import numpy as np\n",
    "\n",
    "#Se crea una matriz de dimensión 2x4\n",
    "matrix1 = np.matrix([[1, 2, 3, 4], [5, 6, 7, 8]])\n",
    "print (matrix1)"
   ]
  },
  {
   "source": [
    "Existen otras tres funciones que nos facilitan la creación de matrices: **`zeros()`** crea una matriz inicializada con el valor 0, **`ones()`** hace lo mismo pero con todos sus valores a 1. Finalmente, **`eye()`** crea la matriz identidad del tamaño que especifiquemos como parámetro"
   ],
   "cell_type": "markdown",
   "metadata": {}
  },
  {
   "cell_type": "code",
   "execution_count": 25,
   "metadata": {},
   "outputs": [
    {
     "output_type": "stream",
     "name": "stdout",
     "text": [
      "[[0. 0. 0.]\n [0. 0. 0.]]\n"
     ]
    }
   ],
   "source": [
    "#Zeros \n",
    "zeros = np.zeros([2,3])\n",
    "print(zeros)"
   ]
  },
  {
   "cell_type": "code",
   "execution_count": 26,
   "metadata": {},
   "outputs": [
    {
     "output_type": "stream",
     "name": "stdout",
     "text": [
      "[[1. 1.]\n [1. 1.]\n [1. 1.]]\n"
     ]
    }
   ],
   "source": [
    "#Ones\n",
    "ones = np.ones([3,2])\n",
    "print(ones)"
   ]
  },
  {
   "cell_type": "code",
   "execution_count": 28,
   "metadata": {},
   "outputs": [
    {
     "output_type": "stream",
     "name": "stdout",
     "text": [
      "[[1. 0. 0. 0.]\n [0. 1. 0. 0.]\n [0. 0. 1. 0.]\n [0. 0. 0. 1.]]\n"
     ]
    }
   ],
   "source": [
    "#Eye\n",
    "eye = np.eye(4)\n",
    "print(eye)"
   ]
  },
  {
   "source": [
    "Podemo acceder a valores concretos de la matriz o a porciones completas"
   ],
   "cell_type": "markdown",
   "metadata": {}
  },
  {
   "cell_type": "code",
   "execution_count": 4,
   "metadata": {},
   "outputs": [
    {
     "output_type": "stream",
     "name": "stdout",
     "text": [
      "[[1 2 3]\n [4 5 6]\n [7 8 9]] \n\nAccede a valor concreto\n [[1 2 3]] \n\nAccede al elemento: \n 2\nImprime columna especficca\n [[1]\n [4]\n [7]]\n"
     ]
    }
   ],
   "source": [
    "matrix1 = np.matrix('1,2,3;4,5,6;7,8,9')\n",
    "print(matrix1, '\\n')\n",
    "\n",
    "#Estamos accediendo a la primera fila(fila 0) de la matriz \n",
    "print('Accede a valor concreto\\n',matrix1[0],'\\n')\n",
    "\n",
    "#Si se quiere acceder a un sólo elemento\n",
    "print('Accede al elemento: \\n', matrix1[0,1])\n",
    "\n",
    "#Se aplica de igual forma a las columnas\n",
    "print('Imprime columna especficca\\n',matrix1[0:3,0])"
   ]
  },
  {
   "source": [
    "Las funciones **`size()`** y **`shape()`** nos devuelven el número de elementos y la dimensión de la matriz respectivamente. \n",
    "\n",
    "Otra información que se puede obtener es el valor **máximo**, el **minimo** y la **media** de los valores de la matriz"
   ],
   "cell_type": "markdown",
   "metadata": {}
  },
  {
   "cell_type": "code",
   "execution_count": 12,
   "metadata": {},
   "outputs": [
    {
     "output_type": "stream",
     "name": "stdout",
     "text": [
      "Imprime número de elementos: \n 4\nImprime dimensión de la matriz: \n (2, 2)\nvalor máximo: \n 4\nValor minimo: \n 1\nImprime Media: \n 2.5\n"
     ]
    }
   ],
   "source": [
    "print('Imprime número de elementos: \\n',matrix1.size)\n",
    "\n",
    "print('Imprime dimensión de la matriz: \\n', matrix1.shape)\n",
    "\n",
    "print('valor máximo: \\n', matrix1.max())\n",
    "\n",
    "print('Valor minimo: \\n', matrix1.min())\n",
    "\n",
    "print('Imprime Media: \\n', matrix1.mean())"
   ]
  },
  {
   "source": [
    "También se pueden modificar los elementos:"
   ],
   "cell_type": "markdown",
   "metadata": {}
  },
  {
   "cell_type": "code",
   "execution_count": 15,
   "metadata": {},
   "outputs": [
    {
     "output_type": "stream",
     "name": "stdout",
     "text": [
      "Se renombra elementos de la matriz: \n [[1 2]\n [3 4]]\nSe reemplaza elementos de la matriz: \n [[ 1  2]\n [10  4]]\nSe sustituye una fila entera de la matriz: \n [[ 6  7]\n [10  4]]\n"
     ]
    }
   ],
   "source": [
    "matrix1 = np.matrix('1 2; 3 4 ')\n",
    "print('Se renombra elementos de la matriz: \\n',matrix1)\n",
    "\n",
    "matrix1[1, 0] = 10\n",
    "print('Se reemplaza elementos de la matriz: \\n', matrix1)\n",
    "\n",
    "matrix1[0] = [6,7]\n",
    "print('Se sustituye una fila entera de la matriz: \\n',matrix1)"
   ]
  },
  {
   "source": [
    "Otra función útil es **``flatten()`**, que convierte la matriz en un array de una dimensión con todos los elementos de la matriz"
   ],
   "cell_type": "markdown",
   "metadata": {}
  },
  {
   "cell_type": "code",
   "execution_count": 17,
   "metadata": {},
   "outputs": [
    {
     "output_type": "stream",
     "name": "stdout",
     "text": [
      "Convierte matriz en un array de una sola dimensión: \n [[ 6  7 10  4]]\n"
     ]
    }
   ],
   "source": [
    "print('Convierte matriz en un array de una sola dimensión: \\n',matrix1.flatten())"
   ]
  },
  {
   "source": [
    "Operaciones matemáticas, en este caso la matriz traspuesta."
   ],
   "cell_type": "markdown",
   "metadata": {}
  },
  {
   "cell_type": "code",
   "execution_count": 18,
   "metadata": {},
   "outputs": [
    {
     "output_type": "stream",
     "name": "stdout",
     "text": [
      "Matriz traspuesta: \n [[ 6 10]\n [ 7  4]]\n"
     ]
    }
   ],
   "source": [
    "print('Matriz traspuesta: \\n', matrix1.T)"
   ]
  },
  {
   "source": [
    "Sobre las matrices se pueden aplicar las operaciones matemáticas básicas, tanto entre matrices como entre una matriz y un escalar. Los siguientes ejemplos ilustran la suma de una matriz y un escalar y la suma entre dos matrices."
   ],
   "cell_type": "markdown",
   "metadata": {}
  },
  {
   "cell_type": "code",
   "execution_count": 22,
   "metadata": {},
   "outputs": [
    {
     "output_type": "stream",
     "name": "stdout",
     "text": [
      "Suma de una matriz y un escalar: \n [[3 4]\n [5 6]]\nSuma entre dos matrices: \n [[ 6  8]\n [10 12]]\n"
     ]
    }
   ],
   "source": [
    "matrix1 = np.matrix('1 2; 3 4')\n",
    "matrix2 = np.matrix('5 6; 7 8')\n",
    "print ('Suma de una matriz y un escalar: \\n',matrix1 + 2)\n",
    "\n",
    "print('Suma entre dos matrices: \\n', matrix1 + matrix2)"
   ]
  }
 ]
}
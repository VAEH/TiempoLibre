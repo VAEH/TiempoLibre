{
 "cells": [
  {
   "cell_type": "markdown",
   "metadata": {},
   "source": [
    "# Programación Orientada a Objetos"
   ]
  },
  {
   "cell_type": "markdown",
   "metadata": {},
   "source": [
    "Python usa un patrón de programación llamado programación orientada a objetos,\n",
    "que modela conceptos usando clases y objetos.\n",
    "Este es un paradigma flexible y poderoso donde las clases representan y\n",
    "definen conceptos, mientras que los objetos son instancias de clases. \n",
    "\n",
    "\n",
    "En nuestro ejemplo de manzana,\n",
    "podemos tener una clase llamada manzana que define las características de una manzana.\n",
    "Entonces podríamos tener un montón de instancias de esa clase de manzana,\n",
    "que son los objetos individuales de esa clase.\n",
    "La idea de la programación orientada a objetos puede parecer abstracta y\n",
    "complejo, pero en realidad ya ha estado usando objetos sin siquiera darse cuenta. \n",
    "\n",
    "Los **atributos** son las características asociadas a un tipo, y\n",
    "los **métodos** son las funciones asociadas a un tipo.\n",
    "En el ejemplo de la manzana, los atributos son el color y el sabor.\n",
    "¿Cuáles serían los métodos?\n",
    "Bueno, depende de lo que hagamos con Apple.\n",
    "Quizás podríamos tener un método de corte que convierta una manzana entera en cuatro rodajas,\n",
    "o podríamos tener un método de comer que reduzca la cantidad de manzana\n",
    "disponible con cada bocado. \n",
    "\n",
    "En la programación orientada a objetos, los conceptos se modelan como clases y objetos. Una idea se define mediante una clase y una instancia de esta clase se denomina objeto. Casi todo en Python es un objeto, incluidas cadenas, listas, diccionarios y números. Cuando creamos una lista en Python, estamos creando un objeto que es una instancia de la clase list, que representa el concepto de lista. Las clases también tienen atributos y métodos asociados. Los atributos son las características de la clase, mientras que los métodos son funciones que forman parte de la clase. \n",
    "\n",
    "### Clases y Objetos en detalle\n",
    "Podemos usar la función **type()** para averiguar a qué clase pertenece una variable o valor. Por ejemplo, el **type(\"\")** nos dice que se trata de una clase de cadena. El único atributo en este caso es el valor de la cadena, pero hay un montón de métodos asociados con la clase. Hemos visto el **upper()** método , que devuelve la cadena en mayúsculas, así como **isnumeric()** que devuelve un booleano que nos dice si la cadena es un número o no. Puede usar la función **dir()** para imprimir todos los atributos y métodos de un objeto. Cada cadena es una instancia de la clase de cadena y tiene los mismos métodos de la clase principal. Dado que el contenido de la cadena es diferente, los métodos devolverán valores diferentes. También puede utilizar la función **help()** en un objeto, que devolverá la documentación de la clase correspondiente. Esto mostrará todos los métodos de la clase, junto con los parámetros que reciben los métodos, los tipos de valores devueltos y una descripción de los métodos. \n",
    "\n"
   ]
  },
  {
   "cell_type": "markdown",
   "metadata": {},
   "source": [
    "### Definición de la nueva clase\n",
    "* Las pautas de estilo de python recomiendan que los nombres de las clases deben comenzar con una letra mayúscula\n",
    "* Para crear una instancia de cualquier clase, llamamos al nombre de la clase como si fuera una función\n",
    "* La sintaxis utilizada para acceder a los atributos se llama notación de puntos debido al punto utilizado en la expresión. La **Do notation** permite acceder a cualquiera de las habilidades que puede tener el objeto, llamados métodos o información que podría almacenar atributos llamados, como sabor.\n",
    "* Los atributos y métodos de algunos objetos pueden ser otros objetos y pueden tener atributos y métodos propios.\n",
    "**Por ejemplo**, podríamos usar el método superior\n",
    "para convertir la cadena del atributo de color a mayúsculas.\n",
    "Así que imprime **(jonagold.color.upper ())**. "
   ]
  },
  {
   "cell_type": "code",
   "execution_count": null,
   "metadata": {},
   "outputs": [],
   "source": [
    "#Usamos la palabra \"class\" para decirle a la computadora que estamos comenzando una nueva clase\n",
    "class Apple:\n",
    "    pass # Usamos la palabra clave \"pass\", para mostrar que el cuerpo esta vacío"
   ]
  },
  {
   "cell_type": "code",
   "execution_count": 5,
   "metadata": {},
   "outputs": [
    {
     "name": "stdout",
     "output_type": "stream",
     "text": [
      "red sweet\n",
      "RED\n",
      "red Green\n"
     ]
    }
   ],
   "source": [
    "class Apple:\n",
    "    #Estamos definiendo dos atributos: Color y sabor\n",
    "    color = \"\"\n",
    "    flavor = \"\"\n",
    "#Estamos creando una instancia de nuestra clase de Apple y asiganandola\n",
    "#A una variable llamada jonagold\n",
    "jonagold = Apple()\n",
    "#Establecemos los valores de los atributos\n",
    "jonagold.color = \"red\"\n",
    "jonagold.flavor = \"sweet\"\n",
    "print(jonagold.color, jonagold.flavor)\n",
    "print(jonagold.color.upper())\n",
    "#reación de una nueva instancia\n",
    "golden = Apple()\n",
    "golden.color = \"Green\"\n",
    "#Jonagold y golden tienen los mismos atributos, color y sabor. Pero esos atributos tienen valores diferentes\n",
    "print(jonagold.color, golden.color)"
   ]
  },
  {
   "cell_type": "markdown",
   "metadata": {},
   "source": [
    "Otro ejemplo de clases con python"
   ]
  },
  {
   "cell_type": "code",
   "execution_count": 6,
   "metadata": {},
   "outputs": [
    {
     "name": "stdout",
     "output_type": "stream",
     "text": [
      "Roses are Red,\n",
      "violets are Purple,\n",
      "Víctor\n"
     ]
    }
   ],
   "source": [
    "class Flower:\n",
    "  color = 'unknown'\n",
    "\n",
    "rose = Flower()\n",
    "rose.color = \"Red\" \n",
    "\n",
    "violet = Flower()\n",
    "violet.color = \"Purple\"\n",
    "\n",
    "this_pun_is_for_you = \"Víctor\"\n",
    "\n",
    "print(\"Roses are {},\".format(rose.color))\n",
    "print(\"violets are {},\".format(violet.color))\n",
    "print(this_pun_is_for_you) "
   ]
  },
  {
   "cell_type": "markdown",
   "metadata": {},
   "source": [
    "Podemos crear y definir nuestras clases en Python de forma similar a como definimos funciones. Comenzamos con la **class** palabra clave , seguida del nombre de nuestra clase y dos puntos. Las pautas de estilo de Python recomiendan que los nombres de las clases comiencen con una letra mayúscula. Después de la línea de definición de clase está el cuerpo de la clase, sangrado a la derecha. Dentro del cuerpo de la clase, podemos definir atributos para la clase. "
   ]
  },
  {
   "cell_type": "markdown",
   "metadata": {},
   "source": [
    "## Clases y Métodos "
   ]
  },
  {
   "cell_type": "markdown",
   "metadata": {},
   "source": [
    "Llamar a métodos sobre objetos ejecuta funciones que operan sobre atributos de una instancia específica de la clase. Esto significa que llamar a un método en una lista, por ejemplo, solo modifica esa instancia de una lista, y no todas las listas globalmente. Podemos definir métodos dentro de una clase creando funciones dentro de la definición de la clase. Estos métodos de instancia pueden tomar un parámetro llamado **self** que representa la instancia en la que se está ejecutando el método. Esto le permitirá acceder a los atributos de la instancia usando notación de puntos, como **self.name**, que accederá al atributo de nombre de esa instancia específica del objeto de clase. Cuando tiene variables que contienen diferentes valores para diferentes instancias, estas se denominan variables de instancia. \n",
    "\n",
    "* Methods: Son funciones que operan en los atributos de una instancia específica de una clase."
   ]
  },
  {
   "cell_type": "code",
   "execution_count": 2,
   "metadata": {},
   "outputs": [
    {
     "name": "stdout",
     "output_type": "stream",
     "text": [
      "oink oink\n"
     ]
    }
   ],
   "source": [
    "class Piglet:\n",
    "    # La función esta recibiendo un parámetro llamado \"self\"\n",
    "    #Este parámetro representa la instancia en el que se está ejecutando el método\n",
    "    def speak(self): \n",
    "        print(\"oink oink\")\n",
    "\n",
    "hamlet = Piglet()\n",
    "hamlet.speak()"
   ]
  },
  {
   "cell_type": "code",
   "execution_count": 5,
   "metadata": {},
   "outputs": [
    {
     "name": "stdout",
     "output_type": "stream",
     "text": [
      "oink! I'm Hamlet!\n",
      "oink! I'm Petunia!\n"
     ]
    }
   ],
   "source": [
    "class Piglet: \n",
    "    name = \"piglet\"\n",
    "    def speak(self):\n",
    "        print(\"oink! I'm {}!\".format(self.name))\n",
    "hamlet = Piglet()\n",
    "hamlet.name = \"Hamlet\"\n",
    "hamlet.speak()\n",
    "\n",
    "petunia = Piglet()\n",
    "petunia.name = \"Petunia\"\n",
    "petunia.speak()"
   ]
  },
  {
   "cell_type": "markdown",
   "metadata": {},
   "source": [
    "* Variables que tienen diferentes valores para diferentes instancias de la misma clase se denominan **variables de instancia**.\n",
    "\n",
    "Dado que los métodos son solo funciones que pertenecen a una clase específica, pueden funcionar como cualquier otra función. Para que puedan recibir más parámetros y devolver valores si es necesario"
   ]
  },
  {
   "cell_type": "code",
   "execution_count": 7,
   "metadata": {},
   "outputs": [
    {
     "name": "stdout",
     "output_type": "stream",
     "text": [
      "0\n",
      "36\n"
     ]
    }
   ],
   "source": [
    "#Piggy tiene dos años y años humanos, ¿Cuántos años tiene él y el cerdo? \n",
    "class Piglet:\n",
    "    years = 0\n",
    "    def pig_years(self):\n",
    "            return self.years * 18\n",
    "        \n",
    "piggy = Piglet()\n",
    "print(piggy.pig_years())\n",
    "\n",
    "piggy.years = 2\n",
    "print(piggy.pig_years())"
   ]
  },
  {
   "cell_type": "markdown",
   "metadata": {},
   "source": [
    "### Constructores y otros métodos especiales\n",
    "El constructor de la clase es el método, que se llama cuando dices el nombre de la clase. Siempre se llama **init**. Los métodos que comienza y terminan con dos guiones bajos son métodos especiales. "
   ]
  },
  {
   "cell_type": "code",
   "execution_count": 9,
   "metadata": {},
   "outputs": [
    {
     "name": "stdout",
     "output_type": "stream",
     "text": [
      "red\n"
     ]
    }
   ],
   "source": [
    "class Apple:\n",
    "    #hemos definido un constructor, un método especial muy importante\n",
    "    #Además de la variable \"self\" que representa la instancia recibe \n",
    "    #dos parámetros más: Color y flavor\n",
    "    #El método establece esos valores como los valores de la instancia actual \n",
    "    def __init__(self, color, flavor):\n",
    "        self.color = color\n",
    "        self.flavor = flavor\n",
    "jonalgold = Apple(\"red\", \"sweet\")\n",
    "print(jonalgold.color)"
   ]
  },
  {
   "cell_type": "markdown",
   "metadata": {},
   "source": [
    "Want to see this in action? In this code, there's a Person class that has an attribute name, which gets set when constructing the object. Fill in the blanks so that 1) when an instance of the class is created, the attribute gets set correctly, and 2) when the greeting() method is called, the greeting states the assigned name."
   ]
  },
  {
   "cell_type": "code",
   "execution_count": 1,
   "metadata": {},
   "outputs": [
    {
     "name": "stdout",
     "output_type": "stream",
     "text": [
      "hi, my name is Vik\n"
     ]
    }
   ],
   "source": [
    "class Person:\n",
    "    def __init__(self, name):\n",
    "        self.name = name\n",
    "    def greeting(self):\n",
    "        # Should return \"hi, my name is \" followed by the name of the Person.\n",
    "        return (\"hi, my name is {}\".format(self.name))\n",
    "\n",
    "\n",
    "# Create a new instance with a name of your choice\n",
    "some_person = Person(\"Vik\")  \n",
    "# Call the greeting method\n",
    "print(some_person.greeting())\n",
    "\n"
   ]
  },
  {
   "cell_type": "markdown",
   "metadata": {},
   "source": [
    "El método especial **STR** devuelve la cadena que queremos imprimir. AL definir el método especial **str** le estamos diciendo a python que queremos que se muestre cuando la función de impresión se llama con una instancia de nuestra clase.   \n",
    "\n",
    "El método str nos permite imprimir un mensaje amigable en lugar de un montón de números. En general, es buena idea pensar en el futuro y definir el método STR cuando creamos objetos que deseemos imprimir. "
   ]
  },
  {
   "cell_type": "code",
   "execution_count": 11,
   "metadata": {},
   "outputs": [
    {
     "name": "stdout",
     "output_type": "stream",
     "text": [
      "This apple is red and its flavor is sweet\n"
     ]
    }
   ],
   "source": [
    "class Apple:\n",
    "    def __init__(self, color, flavor):\n",
    "        self.color = color\n",
    "        self.flavor = flavor\n",
    "    def __str__(self):\n",
    "        return (\"This apple is {} and its flavor is {}\".format(self.color, self.flavor))\n",
    "    \n",
    "jonagold = Apple(\"red\", \"sweet\")\n",
    "print(jonagold) # Si no tuviera \"str\" devolveria un error en esta posición"
   ]
  },
  {
   "cell_type": "markdown",
   "metadata": {},
   "source": [
    "**Diferencia entre método y función en python (Aprender diferencia de ambas cosas)**"
   ]
  },
  {
   "cell_type": "markdown",
   "metadata": {},
   "source": [
    "**Métodos especiales:**\n",
    "\n",
    "En lugar de crear clases con valores vacíos o predeterminados, podemos establecer estos valores cuando creamos la instancia. Esto asegura que no perdamos un valor importante y evita muchas líneas de código innecesarias. Para hacer esto, usamos un método especial llamado **constructor**. A continuación se muestra un ejemplo de una clase Apple con un método de constructor definido."
   ]
  },
  {
   "cell_type": "code",
   "execution_count": 3,
   "metadata": {},
   "outputs": [],
   "source": [
    ">>> class Apple:\n",
    "...     def __init__(self, color, flavor):\n",
    "...         self.color = color\n",
    "...         self.flavor = flavor"
   ]
  },
  {
   "cell_type": "markdown",
   "metadata": {},
   "source": [
    "Cuando llamas el nombre de una clase, se llama al constructor de esa clase. Este método constructor siempre se llama **__ init __**. Quizás recuerde que los métodos especiales comienzan y terminan con dos caracteres de subrayado. En nuestro ejemplo anterior, el método constructor toma la variable self, que representa la instancia, así como los parámetros de color y sabor. Luego, el método constructor usa estos parámetros para establecer los valores de la instancia actual. Entonces, ahora podemos crear una nueva instancia de la clase Apple y establecer los valores de color y sabor, todo listo: "
   ]
  },
  {
   "cell_type": "code",
   "execution_count": 7,
   "metadata": {},
   "outputs": [
    {
     "name": "stdout",
     "output_type": "stream",
     "text": [
      "red\n"
     ]
    }
   ],
   "source": [
    ">>> jonagold = Apple(\"red\", \"sweet\")\n",
    ">>> print(jonagold.color)\n",
    "#Red"
   ]
  },
  {
   "cell_type": "markdown",
   "metadata": {},
   "source": [
    "Además del método especial **__ init __** del constructor , también existe el método especial  **__ str __**. Este método nos permite definir cómo se imprimirá una instancia de un objeto cuando se pase a la función print (). Si un objeto no tiene definido este método especial, terminará usando la representación predeterminada, que imprimirá la posición del objeto en la memoria. No es muy útil. Aquí está nuestra clase de Apple, con el **__ str __** método agregado: "
   ]
  },
  {
   "cell_type": "code",
   "execution_count": 9,
   "metadata": {},
   "outputs": [],
   "source": [
    ">>> class Apple:\n",
    "...     def __init__(self, color, flavor):\n",
    "...         self.color = color\n",
    "...         self.flavor = flavor\n",
    "...     def __str__(self):\n",
    "...         return \"This apple is {} and its flavor is {}\".format(self.color, self.flavor)\n",
    "..."
   ]
  },
  {
   "cell_type": "markdown",
   "metadata": {},
   "source": [
    "Ahora, cuando pasamos un objeto de Apple a la función de impresión, obtenemos una bonita cadena formateada: "
   ]
  },
  {
   "cell_type": "code",
   "execution_count": 11,
   "metadata": {},
   "outputs": [
    {
     "name": "stdout",
     "output_type": "stream",
     "text": [
      "This apple is red and its flavor is sweet\n"
     ]
    }
   ],
   "source": [
    ">>> jonagold = Apple(\"red\", \"sweet\")\n",
    ">>> print(jonagold)\n",
    "#This apple is red and its flavor is sweet"
   ]
  },
  {
   "cell_type": "markdown",
   "metadata": {},
   "source": [
    "Es una buena práctica pensar en cómo se podría usar su clase y definir un método **__ str __** al crear objetos que quizás desee imprimir más tarde. "
   ]
  },
  {
   "cell_type": "markdown",
   "metadata": {},
   "source": [
    "### Documenta funciones, clases y métodos.\n",
    "La función `help()` resulta de ayuda a encontrar documentación sobre clases y métodos e incluso en las nuestras. Tomamos la clase Apple que se utilizo antes. "
   ]
  },
  {
   "cell_type": "code",
   "execution_count": 13,
   "metadata": {},
   "outputs": [
    {
     "name": "stdout",
     "output_type": "stream",
     "text": [
      "This apple is red and its flavor is sweet\n",
      "Help on class Apple in module __main__:\n",
      "\n",
      "class Apple(builtins.object)\n",
      " |  Apple(color, flavor)\n",
      " |  \n",
      " |  Methods defined here:\n",
      " |  \n",
      " |  __init__(self, color, flavor)\n",
      " |      Initialize self.  See help(type(self)) for accurate signature.\n",
      " |  \n",
      " |  __str__(self)\n",
      " |      Return str(self).\n",
      " |  \n",
      " |  ----------------------------------------------------------------------\n",
      " |  Data descriptors defined here:\n",
      " |  \n",
      " |  __dict__\n",
      " |      dictionary for instance variables (if defined)\n",
      " |  \n",
      " |  __weakref__\n",
      " |      list of weak references to the object (if defined)\n",
      "\n"
     ]
    }
   ],
   "source": [
    "class Apple:\n",
    "    def __init__(self, color, flavor):\n",
    "        self.color = color\n",
    "        self.flavor = flavor\n",
    "    def __str__(self):\n",
    "        return (\"This apple is {} and its flavor is {}\".format(self.color, self.flavor))\n",
    "    \n",
    "jonagold = Apple(\"red\", \"sweet\")\n",
    "print(jonagold) # Si no tuviera \"str\" devolveria un error en esta posición\n",
    "help(Apple) #Aunque la documentación es algo corta"
   ]
  },
  {
   "cell_type": "markdown",
   "metadata": {},
   "source": [
    "### Documentar con  Docstring\n",
    "Una cadena de documentos es un texto breve, eso explica lo que hace algo y la función de ayuda nos muestra la cadena que escribimos.\n",
    "La Python ayuda de función de puede ser muy útil para extraer fácilmente documentación de clases y métodos. Podemos llamar a la ayuda función de en una de nuestras clases, que devolverá información básica sobre los métodos definidos en nuestra clase: "
   ]
  },
  {
   "cell_type": "code",
   "execution_count": 15,
   "metadata": {},
   "outputs": [
    {
     "name": "stdout",
     "output_type": "stream",
     "text": [
      "Help on function to_seconds in module __main__:\n",
      "\n",
      "to_seconds(hours, minutes, seconds)\n",
      "    returns the amount of seconds in the given hours, minutes, and seconds.\n",
      "\n"
     ]
    }
   ],
   "source": [
    "def to_seconds(hours, minutes, seconds):\n",
    "    \"\"\" returns the amount of seconds in the given hours, minutes, and seconds.\"\"\"\n",
    "    return hours*3600 + minutes*60+seconds\n",
    "help(to_seconds)"
   ]
  },
  {
   "cell_type": "markdown",
   "metadata": {},
   "source": [
    "También podemos agregar cadenas de documentación a clases u métodos. Al escribir código, agregue cadenas de documento para explicar sus funciones, clases y métodos. Esto hace una diferencia para cualquiera que pueda usar el código.\n",
    "\n",
    "Ahora, cuando llamamos a la función de ayuda en nuestra función to_seconds, obtenemos una descripción práctica de lo que hace la función: "
   ]
  },
  {
   "cell_type": "code",
   "execution_count": 18,
   "metadata": {},
   "outputs": [
    {
     "name": "stdout",
     "output_type": "stream",
     "text": [
      "0\n",
      "36\n",
      "Help on class Piglet in module __main__:\n",
      "\n",
      "class Piglet(builtins.object)\n",
      " |  Represents a piglet that can say their name.\n",
      " |  \n",
      " |  Methods defined here:\n",
      " |  \n",
      " |  pig_years(self)\n",
      " |      Converts the current age to equivalement pig years.\n",
      " |  \n",
      " |  speak(self)\n",
      " |      Outputs a message including the name of the piglet.\n",
      " |  \n",
      " |  ----------------------------------------------------------------------\n",
      " |  Data descriptors defined here:\n",
      " |  \n",
      " |  __dict__\n",
      " |      dictionary for instance variables (if defined)\n",
      " |  \n",
      " |  __weakref__\n",
      " |      list of weak references to the object (if defined)\n",
      " |  \n",
      " |  ----------------------------------------------------------------------\n",
      " |  Data and other attributes defined here:\n",
      " |  \n",
      " |  name = ''\n",
      " |  \n",
      " |  years = 0\n",
      "\n"
     ]
    }
   ],
   "source": [
    "#Piggy tiene dos años y años humanos, ¿Cuántos años tiene él y el cerdo? \n",
    "class Piglet:\n",
    "    \"\"\" Represents a piglet that can say their name.\"\"\"\n",
    "    years = 0\n",
    "    name = \"\"\n",
    "    def speak(self):\n",
    "        \"\"\"Outputs a message including the name of the piglet.\"\"\"\n",
    "        print(\"oink! I'm {}!\".format(self.name))\n",
    "    def pig_years(self):\n",
    "        \"\"\"Converts the current age to equivalement pig years.\"\"\"\n",
    "        return self.years * 18\n",
    "        \n",
    "piggy = Piglet()\n",
    "print(piggy.pig_years())\n",
    "\n",
    "piggy.years = 2\n",
    "print(piggy.pig_years())\n",
    "help(Piglet)"
   ]
  },
  {
   "cell_type": "code",
   "execution_count": 21,
   "metadata": {},
   "outputs": [],
   "source": [
    "#Remember our Person class from the last video? Let’s add a docstring to the greeting method. \n",
    "#How about, “Outputs a message with the name of the person”.\n",
    "class Person:\n",
    "  def __init__(self, name):\n",
    "    self.name = name\n",
    "  def greeting(self):\n",
    "    \"\"\"Outputs a message with the name of the person\"\"\"\n",
    "    print(\"Hello! My name is {name}.\".format(name=self.name)) \n",
    "help(Person)"
   ]
  },
  {
   "cell_type": "markdown",
   "metadata": {},
   "source": [
    "Las cadenas de documentos son muy útiles para documentar nuestras clases, métodos y funciones personalizados, pero también cuando trabajamos con nuevas bibliotecas o funciones. ¡Estarás muy agradecido por las cadenas de documentos cuando tengas que trabajar con código que otra persona escribió! "
   ]
  },
  {
   "cell_type": "markdown",
   "metadata": {},
   "source": [
    "## Reutilización de código"
   ]
  },
  {
   "cell_type": "markdown",
   "metadata": {},
   "source": [
    "### Inheritance (Herencia)\n",
    "El principio de herencia permite a un programador construir relaciones entre conceptos y agruparlos. En particular, esto nos permite reducir la duplicación de código al generalizar nuestro código. <br>\n",
    "Por ejemplo: <br>\n",
    "**¿cómo podríamos desarrollar nuestra representación de manzana para incluir otras\n",
    "tipos de fruta también?**<br>\n",
    "Bueno, una cosa que sabemos sobre una manzana es que es una fruta.\n",
    "Entonces podríamos definir una clase de fruta separada.\n",
    "También sabemos que todas las frutas tienen color y sabor.\n",
    "Entonces, ¿qué pasa si trasladamos nuestros atributos de color y sabor a la clase de frutas?\n",
    "Aquí, tenemos una clase de frutas con un constructor para\n",
    "los atributos de color y sabor.\n",
    "Ahora, podemos reescribir nuestra clase de manzana y\n",
    "agregue fácilmente otra fruta a la mezcla también. "
   ]
  },
  {
   "cell_type": "code",
   "execution_count": 5,
   "metadata": {},
   "outputs": [],
   "source": [
    "class Fruit:\n",
    "    def __init__(self, color, flavor):\n",
    "        self.color = color\n",
    "        self.flavor = flavor\n",
    "# La clase Apple hereda de la clase Fruta\n",
    "#Declaración de la clase para mostrar herencia\n",
    "class Apple(Fruit):\n",
    "    pass\n",
    "class Grape(Fruit):\n",
    "    pass"
   ]
  },
  {
   "cell_type": "markdown",
   "metadata": {},
   "source": [
    "En Python, usamos paréntesis en la declaración de la clase para mostrar una herencia\n",
    "relación. Para nuestras nuevas clases de frutas, hemos usado esa sintaxis para decirle a nuestra computadora que\n",
    "tanto la clase de manzana como la de uva heredan de la clase de fruta. Debido a esto, automáticamente tienen el mismo constructor, que establece los atributos de color y sabor. Puede pensar en la clase de frutas como la clase principal y\n",
    "las clases de manzana y uva como hermanos. "
   ]
  },
  {
   "cell_type": "markdown",
   "metadata": {},
   "source": [
    "Creamos una instancia de la clase **Apple** y **Grape** y les entregamos dos parámetros para color y sabor."
   ]
  },
  {
   "cell_type": "code",
   "execution_count": 6,
   "metadata": {},
   "outputs": [
    {
     "name": "stdout",
     "output_type": "stream",
     "text": [
      "tart\n"
     ]
    }
   ],
   "source": [
    "granny_smith = Apple(\"green\", \"tart\")\n",
    "carnelian = Grape(\"purpple\", \"sweet\") \n",
    "print(granny_smith.flavor)"
   ]
  },
  {
   "cell_type": "markdown",
   "metadata": {},
   "source": [
    "Con la tecnica de herencia, podemos usar la clase de frutas para almacenar información que se aplica a todo tipo de frutas, y mantener atributos específicos de manzana o uva en sus propias clases. Por ejemplo, podríamos tener un atributo para rastrear la  cantidad de manzana que queda después de estar parcialmente comido.<br>\n",
    "Si una clases tienen un atributo o un método definido en ella, las clases heredadas tendrán los mismos atributos y métodos definidos en ellas. Pero también podemos hacer que se comporten de manera diferente dependiendo de lo que cambiemos.\n"
   ]
  },
  {
   "cell_type": "code",
   "execution_count": 8,
   "metadata": {},
   "outputs": [
    {
     "name": "stdout",
     "output_type": "stream",
     "text": [
      "Oink! I'm Hamlet! Oink!\n"
     ]
    }
   ],
   "source": [
    "#Clase llamada Animal\n",
    "class Animal:\n",
    "    #Variable almacena sonido del animal\n",
    "    sound = \"\"\n",
    "    #Constructor toma el nombre que se le asignara a la instancia cuando se crea\n",
    "    def __init__(self, name):\n",
    "        self.name = name\n",
    "    #Método speak imprime nombre del animal junto con el sonido del animal\n",
    "    def speak(self):\n",
    "        print(\"{sound} I'm {name}! {sound}\".format(\n",
    "                name = self.name, sound = self.sound))\n",
    "#Tenemos la clase Piglet que hereda de la clase Animal\n",
    "class Piglet(Animal):\n",
    "    #Se establece el valor del atributo\n",
    "    sound = \"Oink!\"\n",
    "#Realizamos la instacia de la clase Piglet\n",
    "hamlet = Piglet(\"Hamlet\")\n",
    "hamlet.speak()"
   ]
  },
  {
   "cell_type": "markdown",
   "metadata": {},
   "source": [
    "Creamos otra clases, que sea la clase vaca (cow)"
   ]
  },
  {
   "cell_type": "code",
   "execution_count": 9,
   "metadata": {},
   "outputs": [
    {
     "name": "stdout",
     "output_type": "stream",
     "text": [
      "Moo I'm Milky White! Moo\n"
     ]
    }
   ],
   "source": [
    "class Cow(Animal):\n",
    "    sound = \"Moo\"\n",
    "\n",
    "milky = Cow(\"Milky White\")\n",
    "milky.speak()"
   ]
  },
  {
   "cell_type": "code",
   "execution_count": 10,
   "metadata": {},
   "outputs": [
    {
     "name": "stdout",
     "output_type": "stream",
     "text": [
      "This Polo is made of Cotton\n"
     ]
    }
   ],
   "source": [
    "class Clothing:\n",
    "  material = \"\"\n",
    "  def __init__(self,name):\n",
    "    self.name = name\n",
    "  def checkmaterial(self):\n",
    "\t  print(\"This {} is made of {}\".format(self.name, self.material))\n",
    "\t\t\t\n",
    "class Shirt(Clothing):\n",
    "  material=\"Cotton\"\n",
    "\n",
    "polo = Shirt(\"Polo\")\n",
    "polo.checkmaterial()"
   ]
  },
  {
   "cell_type": "markdown",
   "metadata": {},
   "source": [
    "### Composición (Object Composition)\n",
    "* Siempre inicialice los atributos mutables en el constructor\n",
    "* Cuando tenemos otros objetos como atributos,podemos utilizar todos sus atributos y métodos para obtener nuestro propio código para hacer lo que queremos. \n",
    "\n",
    "Puede tener una situación en la que dos clases diferentes estén relacionadas, pero no hay herencia. Esto se conoce como **composición**, donde una clase hace uso de código contenido en otra clase. Por ejemplo, imagine que tenemos una clase **Package** que representa un paquete de software. Contiene atributos sobre el paquete de software, como nombre, versión y tamaño. También tenemos una clase **Repository** que representa todos los paquetes disponibles para su instalación. Si bien no existe una relación de herencia entre las dos clases, están relacionadas. La clase Repository contendrá un diccionario o una lista de paquetes que están contenidos en el repositorio. Echemos un vistazo a una definición de clase de repositorio de ejemplo: "
   ]
  },
  {
   "cell_type": "code",
   "execution_count": 11,
   "metadata": {},
   "outputs": [],
   "source": [
    "class Repository:\n",
    "    #Método dentro de la clase repositorio\n",
    "    def __init__(self):\n",
    "        #Se define la variable dentro del constructor ya que un diccionario es mutable\n",
    "        self.packages = {}\n",
    "    #Hace uso del método de valores en la clase de diccionario\n",
    "    #Creamos el Método agregar paquete\n",
    "    def add_package(self, package):\n",
    "        self.packages[package.name] = package\n",
    "    #Accede al atributo de tamaño en la clase paquete\n",
    "    def total_size(self):\n",
    "        result = 0\n",
    "        for package in self.package.values():\n",
    "            result += package.size\n",
    "        return result"
   ]
  },
  {
   "cell_type": "markdown",
   "metadata": {},
   "source": [
    "En el método constructor, inicializamos el diccionario de paquetes, que contendrá los objetos del paquete disponibles en esta instancia del repositorio. Inicializamos el diccionario en el constructor para asegurarnos de que cada instancia de la clase Repository tenga su propio diccionario. \n",
    "\n",
    "Luego definimos el método `add_package`, que toma un objeto Package como parámetro y luego lo agrega a nuestro diccionario, usando el atributo del nombre del paquete como clave. \n",
    "\n",
    "Finalmente, definimos un método `total_size` que calcula el tamaño total de todos los paquetes contenidos en nuestro repositorio. Este método itera a través de los valores en nuestro diccionario de repositorio y suma los atributos de tamaño de cada objeto de paquete contenido en el diccionario, devolviendo el total al final. En este ejemplo, estamos haciendo uso de los atributos del paquete dentro de nuestra clase Repository. También estamos llamando al método values() en nuestra instancia de diccionario de paquetes. La composición nos permite utilizar objetos como atributos, así como acceder a todos sus atributos y métodos. \n",
    "\n",
    "Por ejemplo: "
   ]
  },
  {
   "cell_type": "code",
   "execution_count": 24,
   "metadata": {},
   "outputs": [
    {
     "name": "stdout",
     "output_type": "stream",
     "text": [
      "13\n"
     ]
    }
   ],
   "source": [
    "class Clothing:\n",
    "  \"\"\"Clase Ropa\"\"\"  \n",
    "  #Define diccionario  \n",
    "  stock={ 'name': [],'material' :[], 'amount':[]} #Variable estatica\n",
    "  def __init__(self,name):\n",
    "    material = \"\" #Variable de instancia\n",
    "    self.name = name #Variable de instancia\n",
    "    #Agrega los articulos al diccionario Stock\n",
    "  def add_item(self, name, material, amount):\n",
    "    Clothing.stock['name'].append(self.name)\n",
    "    Clothing.stock['material'].append(self.material)\n",
    "    Clothing.stock['amount'].append(amount)\n",
    "    #Realiza un conteo de los valores por cada material o uno especifico\n",
    "  def Stock_by_Material(self, material):\n",
    "    count=0\n",
    "    n=0\n",
    "    for item in Clothing.stock['material']:  \n",
    "      if item == material:\n",
    "        count += Clothing.stock['amount'][n]\n",
    "        n+=1\n",
    "    return count\n",
    "#Define la clases camisa, pantalones y obtiene como objeto los atributos y métodos de la clase Clothing\n",
    "class shirt(Clothing):\n",
    "  material=\"Cotton\"\n",
    "class pants(Clothing):\n",
    "  material=\"Cotton\"\n",
    "\n",
    "#Se crea las instancias y se entrega los nombre de camisa y pantalon\n",
    "polo = shirt(\"Polo\")\n",
    "sweatpants = pants(\"Sweatpants\")\n",
    "#Entrega al método add_item de la clase Clothing los articulos para su almacenamiento en el diccionario\n",
    "polo.add_item(polo.name, polo.material, 4)\n",
    "sweatpants.add_item(sweatpants.name, sweatpants.material, 9)\n",
    "#Entrega el material de busqueda para el conteo, según me: se entrega el nombre del material de forma generica\n",
    "current_stock = polo.Stock_by_Material(\"Cotton\")\n",
    "print(current_stock)\n"
   ]
  },
  {
   "cell_type": "markdown",
   "metadata": {},
   "source": [
    "### Módulos de Python\n",
    "Los módulos se pueden utilizar para organizar funciones, clases y otros datos juntos de forma . Internamente, los módulos se configuran mediante archivos separados que contienen las clases y funciones necesarias.\n",
    "Python ya viene con un montón de módulos listos para usar. Todos estos módulos están contenidos en un grupo\n",
    "llamada biblioteca estándar de Python. \n",
    "\n",
    "Los módulos de Python son archivos separados que contienen clases, funciones y otros datos que nos permiten importar y hacer uso de estos métodos y clases en nuestro propio código. Python viene con muchos módulos listos para usar. Estos módulos se conocen como la biblioteca estándar de Python. Puede hacer uso de estos módulos utilizando la **`import`** palabra clave , seguida del nombre del módulo. Por ejemplo, importaremos el módulo `ramdon` y luego llamaremos a la `randint` función dentro de este módulo: "
   ]
  },
  {
   "cell_type": "code",
   "execution_count": 28,
   "metadata": {},
   "outputs": [
    {
     "data": {
      "text/plain": [
       "1"
      ]
     },
     "execution_count": 28,
     "metadata": {},
     "output_type": "execute_result"
    }
   ],
   "source": [
    ">>> import random\n",
    ">>> random.randint(1,10)\n",
    "8\n",
    ">>> random.randint(1,10)\n",
    "7\n",
    ">>> random.randint(1,10)\n",
    "1"
   ]
  },
  {
   "cell_type": "markdown",
   "metadata": {},
   "source": [
    "Esta función toma dos parámetros enteros y devuelve un entero aleatorio entre los valores que le pasamos; en este caso, 1 y 10. Puede notar que llamar a funciones en un módulo es muy similar a llamar a métodos en una clase. Aquí también usamos la notación de puntos, con un punto entre el módulo y los nombres de las funciones. \n",
    "\n",
    "Echemos un vistazo a otro módulo: `datetime` . Este módulo es muy útil cuando se trabaja con fechas y horas. "
   ]
  },
  {
   "cell_type": "code",
   "execution_count": 32,
   "metadata": {},
   "outputs": [
    {
     "name": "stdout",
     "output_type": "stream",
     "text": [
      "2020-12-04 12:43:17.459568\n"
     ]
    }
   ],
   "source": [
    "import datetime\n",
    "now = datetime.datetime.now()\n",
    "type(now)\n",
    "#<class 'datetime.datetime'>\n",
    "print(now)\n",
    "#2019-04-24 16:54:55.155199"
   ]
  },
  {
   "cell_type": "markdown",
   "metadata": {},
   "source": [
    "Primero, importamos el módulo. A continuación, llamamos al `now()` método que pertenece a la `datetime` clase contenida en el modulo `datetime`. Este método genera una instancia de la clase datetime para la fecha y hora actuales. Esta instancia tiene algunos métodos que podemos llamar: "
   ]
  },
  {
   "cell_type": "code",
   "execution_count": 34,
   "metadata": {},
   "outputs": [
    {
     "name": "stdout",
     "output_type": "stream",
     "text": [
      "2020-12-04 12:43:17.459568\n",
      "2021-01-01 12:43:17.459568\n"
     ]
    }
   ],
   "source": [
    ">>> print(now)\n",
    "#2019-04-24 16:54:55.155199\n",
    ">>> now.year\n",
    "#2019\n",
    ">>> print(now + datetime.timedelta(days=28))\n",
    "#-05-22 16:54:55.155199"
   ]
  },
  {
   "cell_type": "markdown",
   "metadata": {},
   "source": [
    "Cuando llamamos a la función de impresión con una instancia de la clase datetime, obtenemos la fecha y la hora impresas en un formato específico. Esto se debe a que la clase datetime tiene un `__str__` definido método que genera la cadena formateada que vemos aquí. También podemos llamar directamente a los atributos y métodos de la clase, como `now.year`, que devuelve el atributo de año de la instancia. \n",
    "\n",
    "Por último, podemos acceder a otras clases contenidas en el módulo datetime, como la `timedelta` clase . En este ejemplo, estamos creando una instancia de la clase timedelta con el parámetro de 28 días. Luego agregamos este objeto a nuestra instancia de la clase datetime de antes e imprimimos el resultado. Esto tiene el efecto de agregar 28 días a nuestro objeto de fecha y hora original. "
   ]
  }
 ],
 "metadata": {
  "kernelspec": {
   "display_name": "Python 3",
   "language": "python",
   "name": "python3"
  },
  "language_info": {
   "codemirror_mode": {
    "name": "ipython",
    "version": 3
   },
   "file_extension": ".py",
   "mimetype": "text/x-python",
   "name": "python",
   "nbconvert_exporter": "python",
   "pygments_lexer": "ipython3",
   "version": "3.7.6"
  }
 },
 "nbformat": 4,
 "nbformat_minor": 4
}

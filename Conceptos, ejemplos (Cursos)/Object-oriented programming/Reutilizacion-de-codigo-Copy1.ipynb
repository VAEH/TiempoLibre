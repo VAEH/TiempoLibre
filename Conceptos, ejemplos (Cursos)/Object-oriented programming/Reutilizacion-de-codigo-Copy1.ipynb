{
 "cells": [
  {
   "cell_type": "markdown",
   "metadata": {},
   "source": [
    "# Code Reuse"
   ]
  },
  {
   "cell_type": "markdown",
   "metadata": {},
   "source": [
    "Pongamos todo lo que aprendimos sobre la reutilización de código. \n",
    "<br><br>\n",
    "Primero, analicemos la **herencia**. Ejecute la siguiente celda que define una genérica clase Animal.  "
   ]
  },
  {
   "cell_type": "code",
   "execution_count": 16,
   "metadata": {},
   "outputs": [],
   "source": [
    "class Animal:\n",
    "    name = \"\"\n",
    "    category = \"\"\n",
    "    \n",
    "    def __init__(self, name):\n",
    "        self.name = name\n",
    "    \n",
    "    def set_category(self, category):\n",
    "        self.category = category"
   ]
  },
  {
   "cell_type": "markdown",
   "metadata": {},
   "source": [
    "Lo que tenemos no es suficiente para hacer mucho, todavía. Ahí es donde entras tú. \n",
    "<br><br>\n",
    "En la siguiente celda, defina una clase `Turtle` que herede de la clase `Animal`. Luego continúe y establezca su categoría. Por ejemplo, una tortuga generalmente se considera un reptil. Aunque la cladística moderna cuestiona esta categorización, para los propósitos de este ejercicio diremos que las tortugas son reptiles. "
   ]
  },
  {
   "cell_type": "code",
   "execution_count": 17,
   "metadata": {},
   "outputs": [],
   "source": [
    "class Turtle(Animal):\n",
    "    category = \"reptile\"\n",
    "    "
   ]
  },
  {
   "cell_type": "markdown",
   "metadata": {},
   "source": [
    "Ejecute la siguiente celda para verificar si definió correctamente su clase `Turtle` y estableció su categoría en reptil.\n"
   ]
  },
  {
   "cell_type": "code",
   "execution_count": 18,
   "metadata": {},
   "outputs": [
    {
     "name": "stdout",
     "output_type": "stream",
     "text": [
      "reptile\n"
     ]
    }
   ],
   "source": [
    "print(Turtle.category)"
   ]
  },
  {
   "cell_type": "markdown",
   "metadata": {},
   "source": [
    "¿Fue la salida del reptil celular anterior? Si no es así, regrese y edite su clase `Turtle` asegurándose de que herede de la clase `Animal` y su categoría esté configurada correctamente como reptil. Asegúrese de volver a ejecutar esa celda una vez que haya terminado de editar. ¿Lo obtuviste? Si es así, ¡genial!\n"
   ]
  },
  {
   "cell_type": "markdown",
   "metadata": {},
   "source": [
    "A continuación, practiquemos **composición** un poco la . Este requerirá un segundo tipo `Animal` que esté en la misma categoría que el primero. Por ejemplo, dado que ya creó una clase `Turtle`, siga adelante y cree una Snakeclase. No olvide que también hereda de la Animalclase y que su categoría debe establecerse en reptil. "
   ]
  },
  {
   "cell_type": "code",
   "execution_count": 13,
   "metadata": {},
   "outputs": [],
   "source": [
    "class Snake(Animal):\n",
    "    category = \"reptile\""
   ]
  },
  {
   "cell_type": "markdown",
   "metadata": {},
   "source": [
    "Ahora, digamos que tenemos una gran variedad de `Animal`s (como tortugas y serpientes) en un zoológico. A continuación tenemos la clase `Zoo`. Lo usaremos para organizar nuestros varios `Animal`s. Recuerde, la herencia dice que una tortuga es un `Animal`, pero una `Zoo`no es una `Animal`y una `Animal`no es una `Zoo`, aunque están relacionadas entre sí. "
   ]
  },
  {
   "cell_type": "markdown",
   "metadata": {},
   "source": [
    "Complete los espacios en blanco de la clase `Zoo` a continuación para que pueda usar **zoo.add_animal()** para agregar instancias de las subclases `Animal` que creó anteriormente. Una vez que los haya agregado todos, debería poder usar **zoo.total_of_category()** para decirle exactamente cuántos individuales `Animal` tipos el  `Zoo`tiene para cada categoría. Asegúrese de ejecutar la celda una vez que haya terminado de editar. "
   ]
  },
  {
   "cell_type": "code",
   "execution_count": 14,
   "metadata": {},
   "outputs": [],
   "source": [
    "class Zoo:\n",
    "    def __init__(self):\n",
    "        self.current_animals = {}\n",
    "    \n",
    "    def add_animal(self, animal):\n",
    "        self.current_animals[animal.name] = animal.category\n",
    "    \n",
    "    def total_of_category(self, category):\n",
    "        result = 0\n",
    "        for animal in self.current_animals.values():\n",
    "            if animal == category:\n",
    "                result += 1\n",
    "        return result\n",
    "\n",
    "zoo = Zoo()"
   ]
  },
  {
   "cell_type": "markdown",
   "metadata": {},
   "source": [
    "Ejecute la siguiente celda para verificar si completó correctamente los espacios en blanco de su clase `Zoo`.\n"
   ]
  },
  {
   "cell_type": "code",
   "execution_count": 15,
   "metadata": {},
   "outputs": [
    {
     "name": "stdout",
     "output_type": "stream",
     "text": [
      "2\n"
     ]
    }
   ],
   "source": [
    "turtle = Turtle(\"Turtle\") #create an instance of the Turtle class\n",
    "snake = Snake(\"Snake\") #create an instance of the Snake class\n",
    "\n",
    "zoo.add_animal(turtle)\n",
    "zoo.add_animal(snake)\n",
    "\n",
    "print(zoo.total_of_category(\"reptile\")) #how many zoo animal types in the reptile category"
   ]
  },
  {
   "cell_type": "markdown",
   "metadata": {},
   "source": [
    "¿Fue el resultado de la celda anterior 2? Si no es así, regrese y edite la clase `Zoo` asegurándose de completar los espacios en blanco con los atributos apropiados. Asegúrese de volver a ejecutar esa celda una vez que haya terminado de editar.\n",
    "\n",
    "¿Lo obtuviste? Si es así, ¡perfecto! Ha definido con éxito sus subclases `Turtle` y `Snake`, así como su clase `Zoo`. Ya ha terminado con este cuaderno. ¡Buen trabajo!\n"
   ]
  }
 ],
 "metadata": {
  "kernelspec": {
   "display_name": "Python 3",
   "language": "python",
   "name": "python3"
  },
  "language_info": {
   "codemirror_mode": {
    "name": "ipython",
    "version": 3
   },
   "file_extension": ".py",
   "mimetype": "text/x-python",
   "name": "python",
   "nbconvert_exporter": "python",
   "pygments_lexer": "ipython3",
   "version": "3.7.6"
  }
 },
 "nbformat": 4,
 "nbformat_minor": 2
}

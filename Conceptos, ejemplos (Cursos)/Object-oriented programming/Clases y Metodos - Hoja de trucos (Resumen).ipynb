{
 "cells": [
  {
   "cell_type": "markdown",
   "metadata": {},
   "source": [
    "# Clases y Métodos - Hoja de trucos"
   ]
  },
  {
   "cell_type": "markdown",
   "metadata": {},
   "source": [
    "En los últimos vídeos, hemos visto cómo definir las clases y métodos de Python. Aquí, usted encontrará una lista de todo lo que hemos cubierto, para que puedan referirse a ella cuando se necesita un repaso."
   ]
  },
  {
   "cell_type": "code",
   "execution_count": 1,
   "metadata": {},
   "outputs": [],
   "source": [
    "class ClassName:\n",
    "    def method_name(self, other_parameters):\n",
    "        body_of_method"
   ]
  },
  {
   "cell_type": "markdown",
   "metadata": {},
   "source": [
    "##### Clases e instancias\n",
    "*    Las clases definen el comportamiento de todas las instancias de una clase específica.\n",
    "*    Cada variable de una clase específica es una instancia u objeto.\n",
    "*    Los objetos pueden tener atributos, que almacenan información sobre el objeto.\n",
    "*    Usted puede hacer que los objetos de hacer el trabajo por llamar a sus métodos.\n",
    "*    El primer parámetro de los métodos de (auto) representa la instancia actual.\n",
    "*    Los métodos son como las funciones, pero sólo pueden ser utilizados a través de una clase.\n",
    "\n",
    "##### Métodos especiales\n",
    "*    Los métodos especiales de inicio y final con __.\n",
    "*    Métodos especiales tienen nombres específicos, como el **__ init __** para el constructor o **__ str __** para la conversión a string.\n",
    "\n",
    "##### Documentación de las clases, métodos y funciones\n",
    "* Puedes añadir la documentación de las clases, métodos y funciones mediante el uso de docstrings justo después de la definición. Como este:"
   ]
  },
  {
   "cell_type": "code",
   "execution_count": 2,
   "metadata": {},
   "outputs": [],
   "source": [
    "class ClassName:\n",
    "    \"\"\"Documentation for the class.\"\"\"\n",
    "    def method_name(self, other_parameters):\n",
    "        \"\"\"Documentation for the method.\"\"\"\n",
    "        body_of_method\n",
    "        \n",
    "def function_name(parameters):\n",
    "    \"\"\"Documentation for the function.\"\"\"\n",
    "    body_of_function"
   ]
  }
 ],
 "metadata": {
  "kernelspec": {
   "display_name": "Python 3",
   "language": "python",
   "name": "python3"
  },
  "language_info": {
   "codemirror_mode": {
    "name": "ipython",
    "version": 3
   },
   "file_extension": ".py",
   "mimetype": "text/x-python",
   "name": "python",
   "nbconvert_exporter": "python",
   "pygments_lexer": "ipython3",
   "version": "3.7.6"
  }
 },
 "nbformat": 4,
 "nbformat_minor": 4
}

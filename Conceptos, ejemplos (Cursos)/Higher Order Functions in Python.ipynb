{
 "cells": [
  {
   "cell_type": "markdown",
   "metadata": {},
   "source": [
    "# Higher Order Functions in Python"
   ]
  },
  {
   "cell_type": "markdown",
   "metadata": {},
   "source": [
    "Una función se denomina **Función de orden superior** si contiene otras funciones como *Parámetros* o funciones de retorno. Es un concepto importante de *programación funcional*. \n",
    "## Funciones de Map, Reduce y Filter.\n",
    "Son funciones de orden superior integradas de uso común en Python. APlicar bien estas tres funciones puede ayudarnos a evitar demasiaados bucles for en nuestro código y hacerlo más elegante y legible. \n",
    "Todos  reciben dos parámetros que los hacen un poco similares. Sin embargo, tienen diferentes consecuencias y escenarios de uso. "
   ]
  },
  {
   "cell_type": "markdown",
   "metadata": {},
   "source": [
    "### La función Map()\n",
    "La función `map()` recibe dos parámetros, uno es una función y el otro es un **iterable**. Aplica la función inicializada a cada elemento de la secuencia por turno y devuelve el resultado como un *iterador*. \n",
    "\n",
    "Por ejemplo, si necesitamos calcular el cuadrado de cada número en una lista, podemos usar `map()`:"
   ]
  },
  {
   "cell_type": "code",
   "execution_count": 1,
   "metadata": {},
   "outputs": [
    {
     "name": "stdout",
     "output_type": "stream",
     "text": [
      "[1, 4, 9, 16, 25, 36, 49, 64, 81]\n"
     ]
    }
   ],
   "source": [
    "def f(x):\n",
    "    return x * x\n",
    "r = map(f, [1, 2, 3, 4, 5, 6, 7, 8, 9])\n",
    "print(list(r))\n",
    "# [1, 4, 9, 16, 25, 36, 49, 64, 81]"
   ]
  },
  {
   "cell_type": "markdown",
   "metadata": {},
   "source": [
    "En realidad, podemos obtenerlo con solo una línea con la función lambda:\n",
    "`r = mapa (lambda x: x * x, [1, 2, 3, 4, 5, 6, 7, 8, 9]) `"
   ]
  },
  {
   "cell_type": "markdown",
   "metadata": {},
   "source": [
    "Obviamente, usar la `map()` función puede hacer que nuestro código sea más elegante y claro que usar un bucle for.\n",
    "\n",
    "Otro ejemplo: use la `map()` función para cambiar el nombre en inglés no estándar por los nombres canónicos: "
   ]
  },
  {
   "cell_type": "code",
   "execution_count": 6,
   "metadata": {},
   "outputs": [
    {
     "name": "stdout",
     "output_type": "stream",
     "text": [
      "['Yang', 'Mask', 'Thomas', 'Lisa']\n"
     ]
    }
   ],
   "source": [
    "names = ['yAnG', 'MASk', 'thoMas', 'LISA']\n",
    "names = map(str.capitalize, names)\n",
    "print(list(names))\n",
    "# ['Yang', 'Mask', 'Thomas', 'Lisa']"
   ]
  },
  {
   "cell_type": "markdown",
   "metadata": {},
   "source": [
    "### La función Reduce.\n",
    "El método `Reduce()` también tiene dos parámetros, uno es una función y el otro es *iterable*. Aplica una función a una secuencia, esta función debe recibir dos parámetros, *reduce* continúa el resultado y realiza el cálculo acumulativo con el siguiente elemento de la secuencia. Finalmente, devuelve el resultado del cálculo acumulativo. \n",
    "\n",
    "Otra definición sería, que la función es utilizada principalmente para llevar a cabo un cálculo acumulativo sobre una lista de valores y devolver el resultado. la consecuencia de una función `reduce()`es la misma que usar la función una y otra vez para un iterable: `reduce(f, [x1, x2, x3, x4]) = f(f(f(x1, x2), x3), x4)`. Por ejemplo, si queremos convertir una lista `['L','o','n','d','o','n',2,0,2,0]`en una cadena `\"London2020”`, usar `reduce`es buena idea."
   ]
  },
  {
   "cell_type": "code",
   "execution_count": 10,
   "metadata": {},
   "outputs": [
    {
     "name": "stdout",
     "output_type": "stream",
     "text": [
      "London2020\n"
     ]
    }
   ],
   "source": [
    "from functools import reduce\n",
    "\n",
    "city = ['L', 'o', 'n', 'd', 'o', 'n', 2, 0, 2, 0]\n",
    "city_to_str = reduce(lambda x, y: str(x) + str(y), city)\n",
    "print(city_to_str)\n",
    "# London2020"
   ]
  },
  {
   "cell_type": "markdown",
   "metadata": {},
   "source": [
    "### La función Filter()\n",
    "Similiar a `map()`, la función `filter()` también recibe una función y una secuencia. A diferencia de `map()`, `filter()`aplica la función entrante a cada elemento por turno y luego decide si mantener o descartar el elemento en función  de si el valor de retorno es `True`o `False`. \n",
    "\n",
    "Por ejemplo, eliminemos los nombres de más de cuatro letras en el ejemplo anterior:"
   ]
  },
  {
   "cell_type": "code",
   "execution_count": 11,
   "metadata": {},
   "outputs": [
    {
     "name": "stdout",
     "output_type": "stream",
     "text": [
      "['Yang', 'Mask', 'Lisa']\n"
     ]
    }
   ],
   "source": [
    "names = ['yAnG', 'MASk', 'thoMas', 'LISA']\n",
    "names = map(str.capitalize, names)\n",
    "names = filter(lambda x: len(x) <= 4, names)\n",
    "print(list(names))\n",
    "# ['Yang', 'Mask', 'Lisa']"
   ]
  },
  {
   "cell_type": "markdown",
   "metadata": {},
   "source": [
    "Al igual que la función `map()`, la función `filter()`devuelve un ieterador, que es una \"secuencia perezosa\", por lo que para forzarla a completar los resultados del calculo, necesitamos usar la función `list` para obtener todos los resultados y devolver la lista. "
   ]
  },
  {
   "cell_type": "markdown",
   "metadata": {},
   "source": [
    "### la función de clasificación (Sorted) en python.\n",
    "La clasificación también es un algoritmo que se utiliza con frecuencia en los programas. Ya sea que use la clasificación de burbujas o la clasificación rápida, el núcleo de la clasificación es comparar elementos. Si es un número, podemos comparar directamente, pero ¿si es una cadena o \"dict\"? Por tanto, el proceso de comparación debe abstraerse mediante funciones.\n",
    "\n",
    "El método `sorted` integrado de python, que es una función de orden superior, tiene un parámetro `key` que recibe una función que define cómo comparar los elementos. \n",
    "\n",
    "Por ejemplo, ordenemos una lista que incluya nombres por su longitud. "
   ]
  },
  {
   "cell_type": "code",
   "execution_count": 12,
   "metadata": {},
   "outputs": [
    {
     "name": "stdout",
     "output_type": "stream",
     "text": [
      "['Tom', 'Yang', 'Gates', 'Robert']\n"
     ]
    }
   ],
   "source": [
    "names = ['Yang', 'Robert', 'Tom', 'Gates']\n",
    "names = sorted(names, key=len)\n",
    "print(names)\n",
    "# ['Tom', 'Yang', 'Gates', 'Robert']"
   ]
  },
  {
   "cell_type": "markdown",
   "metadata": {},
   "source": [
    "Nota: Hay dos formas de usar la función de clasificación, debemos comprender las diferencias y usarlas correctamente: \n",
    "1.  Usando el `sorted` directamente y **devolverá una nueva lista ordenada**.\n",
    "`names = sorted(names, key=len)`\n",
    "2. llamada `sort()` Función de por secuencia. Esto lo **ordenará en su lugar y no se devolverá nada**. \n",
    "`names.sort(key=len)`"
   ]
  },
  {
   "cell_type": "markdown",
   "metadata": {},
   "source": [
    "### Devolver(return) una función \n",
    "Las funciones anteriores reciben otras funciones como parámetro. Como dijimos al principio, una función que devuelve otra función también se llama función de orden superior . Otro nombre formal es [Closure](https://en.wikipedia.org/wiki/Closure_(computer_programming)) . Veamos un ejemplo: "
   ]
  },
  {
   "cell_type": "code",
   "execution_count": 16,
   "metadata": {},
   "outputs": [
    {
     "name": "stdout",
     "output_type": "stream",
     "text": [
      "<function lazy_sum.<locals>.sum at 0x00000196F0C38798>\n"
     ]
    }
   ],
   "source": [
    "def lazy_sum(numbers: list):\n",
    "    def sum():\n",
    "        s = 0\n",
    "        for n in numbers:\n",
    "            s += n\n",
    "        return s\n",
    "\n",
    "    return sum\n",
    "\n",
    "func = lazy_sum([1, 2, 3, 4, 5])\n",
    "print(func)\n",
    "# <function lazy_sum.<locals>.sum at 0x7ff9da4179d8>"
   ]
  },
  {
   "cell_type": "markdown",
   "metadata": {},
   "source": [
    "Como se muestra en el ejemplo anterior, en lugar de devolver el resultado sumado, podemos devolver la función de suma. Es un [evaluación perezoso](https://en.wikipedia.org/wiki/Lazy_evaluation#:~:text=In%20programming%20language%20theory%2C%20lazy,avoids%20repeated%20evaluations%20(sharing).) método de que nos da más flexibilidad. Podemos calcular el resultado siempre que lo necesitemos: `print(func())`"
   ]
  },
  {
   "cell_type": "markdown",
   "metadata": {},
   "source": [
    "Nota: El `func` es solo una referencia (nombre) de una función, necesitamos llamar `func()`para ejecutar la función. En este ejemplo, `func` guarda la función  `sum` que fue devuelta por `lazy_sumfunction`. Cuando llamamos `func()`, calcula y devuelve el resultado de la suma final.\n",
    "\n",
    "Después de comprender el cierre, es fácil comprender a los decoradores en Python. "
   ]
  },
  {
   "cell_type": "markdown",
   "metadata": {},
   "source": [
    "### Conclusión\n",
    "Las funciones de orden superior en Python nos dan más flexibilidad y hacen que nuestro código sea más legible y elegante. "
   ]
  }
 ],
 "metadata": {
  "kernelspec": {
   "display_name": "Python 3",
   "language": "python",
   "name": "python3"
  },
  "language_info": {
   "codemirror_mode": {
    "name": "ipython",
    "version": 3
   },
   "file_extension": ".py",
   "mimetype": "text/x-python",
   "name": "python",
   "nbconvert_exporter": "python",
   "pygments_lexer": "ipython3",
   "version": "3.7.6"
  }
 },
 "nbformat": 4,
 "nbformat_minor": 4
}

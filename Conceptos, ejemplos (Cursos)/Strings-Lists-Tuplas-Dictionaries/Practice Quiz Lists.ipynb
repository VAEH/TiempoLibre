{
 "cells": [
  {
   "cell_type": "markdown",
   "metadata": {},
   "source": [
    "# Practice quiz: Lists"
   ]
  },
  {
   "cell_type": "markdown",
   "metadata": {},
   "source": [
    "1. \n",
    "\n",
    "Dada una lista de nombres de archivos, queremos cambiar el nombre de todos los archivos con extensión hpp a la extensión h. Para hacer esto, nos gustaría generar una nueva lista llamada nuevos nombres de archivo, que consta de los nuevos nombres de archivo. Complete los espacios en blanco en el código utilizando cualquiera de los métodos que ha aprendido hasta ahora, como un bucle for o una lista de comprensión. "
   ]
  },
  {
   "cell_type": "code",
   "execution_count": 1,
   "metadata": {},
   "outputs": [
    {
     "name": "stdout",
     "output_type": "stream",
     "text": [
      "['program.c', 'stdio.h', 'sample.h', 'a.out', 'math.h', 'hpp.out']\n"
     ]
    }
   ],
   "source": [
    "\n",
    "filenames = [\"program.c\", \"stdio.hpp\", \"sample.hpp\", \"a.out\", \"math.hpp\", \"hpp.out\"]\n",
    "# Generate newfilenames as a list containing the new filenames\n",
    "# using as many lines of code as your chosen method requires.\n",
    "def newfilenames(filenames):\n",
    "    new_filename=[] #Nueva lista\n",
    "    for filename in filenames: #recorre la lista\n",
    "        if(\".hpp\" in filename): #Comrpueba si se encuentra la extensión\n",
    "            indice = filename.index(\".hpp\") # Encuentra el indice donde esta la extensión\n",
    "            new_filename.append(filename[:indice]+ \".h\") # Elimina la extensión con un rrebanado y agrega la nueva exte\n",
    "        else:\n",
    "            new_filename.append(filename)\n",
    "    return new_filename #Retorna la nueva lista\n",
    "    \n",
    "print(newfilenames(filenames)) \n",
    "# Should be [\"program.c\", \"stdio.h\", \"sample.h\", \"a.out\", \"math.h\", \"hpp.out\"]\n"
   ]
  },
  {
   "cell_type": "code",
   "execution_count": 7,
   "metadata": {},
   "outputs": [
    {
     "name": "stdout",
     "output_type": "stream",
     "text": [
      "[('program.c', 'program.c'), ('stdio.hpp', 'stdio.h'), ('sample.hpp', 'sample.h'), ('a.out', 'a.out'), ('math.hpp', 'math.h'), ('hpp.out', 'hpp.out')]\n"
     ]
    }
   ],
   "source": [
    "#Esta es otra forma de solcuionar el problema y de forma más corta\n",
    "filenames = [\"program.c\", \"stdio.hpp\", \"sample.hpp\", \"a.out\", \"math.hpp\", \"hpp.out\"]\n",
    "newfilenames = []\n",
    "for file in filenames:\n",
    "  if '.hpp' in file:\n",
    "    newfilenames.append((file,file[:-2]))\n",
    "  else:\n",
    "    newfilenames.append((file,file))\n",
    "\n",
    "print (newfilenames) # Should be [('program.c', 'program.c'), ('stdio.hpp', 'stdio.h'), ('sample.hpp', 'sample.h'), ('a.out', 'a.out'), ('math.hpp', 'math.h'), ('hpp.out', 'hpp.out')]"
   ]
  },
  {
   "cell_type": "markdown",
   "metadata": {},
   "source": [
    "2. Creemos una función que convierta el texto en latín cerdo: una transformación de texto simple que modifica cada palabra moviendo el primer carácter al final y agregando \"ay\" al final. Por ejemplo, python termina como ythonpay. "
   ]
  },
  {
   "cell_type": "code",
   "execution_count": 2,
   "metadata": {},
   "outputs": [
    {
     "name": "stdout",
     "output_type": "stream",
     "text": [
      "ellohay owhay reaay ouyay\n",
      "rogrammingpay niay ythonpay siay unfay\n"
     ]
    }
   ],
   "source": [
    "def pig_latin(text):\n",
    "  say = \"\"\n",
    "  # Separate the text into words\n",
    "  words = [x for x in text.split()]\n",
    "  list_word = []\n",
    "  for word in words:\n",
    "    # Create the pig latin word and add it to the list\n",
    "    word_pig = \"ay\"\n",
    "    list_word.append(word[1::]+ word[0] + word_pig)\n",
    "    # Turn the list back into a phrase\n",
    "    phrase = \" \".join(map(str, list_word))\n",
    "  return phrase\n",
    "\t\t\n",
    "print(pig_latin(\"hello how are you\")) # Should be \"ellohay owhay reaay ouyay\"\n",
    "print(pig_latin(\"programming in python is fun\")) # Should be \"rogrammingpay niay ythonpay siay unfay\"\n"
   ]
  },
  {
   "cell_type": "code",
   "execution_count": 9,
   "metadata": {},
   "outputs": [
    {
     "name": "stdout",
     "output_type": "stream",
     "text": [
      "ellohay owhay reaay ouyay\n",
      "rogrammingpay niay ythonpay siay unfay\n"
     ]
    }
   ],
   "source": [
    "#Otra forma de solcuión del ejercicio\n",
    "def pig_latin(text):\n",
    "  say = \"\"\n",
    "  # Separate the text into words\n",
    "  words = text.split()\n",
    "  for word in words:\n",
    "    # Create the pig latin word and add it to the list\n",
    "    say += word[1:]+word[0]+'ay'\n",
    "    if word != words[len(words)-1]:\n",
    "      say +=' '\n",
    "    # Turn the list back into a phrase\n",
    "  return say\n",
    "\t\t\n",
    "print(pig_latin(\"hello how are you\")) # Should be \"ellohay owhay reaay ouyay\"\n",
    "print(pig_latin(\"programming in python is fun\")) # Should be \"rogrammingpay niay ythonpay siay unfay\""
   ]
  },
  {
   "cell_type": "markdown",
   "metadata": {},
   "source": [
    "3. Los permisos de un archivo en un sistema Linux se dividen en tres conjuntos de tres permisos: lectura, escritura y ejecución para el propietario, el grupo y otros. Cada uno de los tres valores se puede expresar como un número octal que suma cada permiso, con 4 correspondientes a lectura, 2 a escritura y 1 a ejecución. O puede escribirse con una cadena usando las letras r, w y x ó - cuando no se otorga el permiso. Por ejemplo: 640 es de lectura / escritura para el propietario, lectura para el grupo y sin permisos para los demás; convertido a una cadena, sería: \"rw-r -----\" 755 es de lectura / escritura / ejecución para el propietario y lectura / ejecución para el grupo y otros; convertido a una cadena, sería: \"rwxr-xr-x\" Complete los espacios en blanco para que el código convierta un permiso en formato octal en un formato de cadena. "
   ]
  },
  {
   "cell_type": "code",
   "execution_count": 3,
   "metadata": {},
   "outputs": [
    {
     "name": "stdout",
     "output_type": "stream",
     "text": [
      "rwxr-xr-x\n",
      "rw-r--r--\n",
      "rwxr-x---\n",
      "rw-------\n"
     ]
    }
   ],
   "source": [
    "#Hay comentarios tanto en español como en ingles (Que verguenza! :c)\n",
    "def octal_to_string(octal):\n",
    "    result = \"\"\n",
    "    value_letters = [(4,\"r\"),(2,\"w\"),(1,\"x\")] #Notación octal \n",
    "    # Iterate over each of the digits in octal\n",
    "    for digit in [int(n) for n in str(octal)]:#Convierte de str a int \n",
    "        # Check for each of the permissions values\n",
    "        for value, letter in value_letters:\n",
    "            if digit >= value:\n",
    "                result += letter\n",
    "                digit -= value\n",
    "            else:\n",
    "                result+=\"-\"\n",
    "    return result\n",
    "    \n",
    "print(octal_to_string(755)) # Should be rwxr-xr-x\n",
    "print(octal_to_string(644)) # Should be rw-r--r--\n",
    "print(octal_to_string(750)) # Should be rwxr-x---\n",
    "print(octal_to_string(600)) # Should be rw-------"
   ]
  },
  {
   "attachments": {
    "imagen.png": {
     "image/png": "[encoded data removed]"
    }
   },
   "cell_type": "markdown",
   "metadata": {},
   "source": [
    "4. \n",
    "\n",
    "Las tuplas y las listas son tipos de secuencias muy similares. ¿Qué es lo principal que hace que una tupla sea diferente de una lista?\n",
    "\n",
    "![imagen.png](attachment:imagen.png)"
   ]
  },
  {
   "cell_type": "markdown",
   "metadata": {},
   "source": [
    "5. \n",
    "\n",
    "La función group_list acepta un nombre de grupo y una lista de miembros, y devuelve una cadena con el formato: group_name: member1, member2,… Por ejemplo, group_list (\"g\", [\"a\", \"b\", \"c\"] ) devuelve \"g: a, b, c\". Complete los espacios en blanco en esta función para hacer eso. "
   ]
  },
  {
   "cell_type": "code",
   "execution_count": 5,
   "metadata": {},
   "outputs": [
    {
     "name": "stdout",
     "output_type": "stream",
     "text": [
      "Marketing:Mike,Karen,Jake,Tasha\n",
      "Engineering:Kim,Jay,Tom\n",
      "Users:\n"
     ]
    }
   ],
   "source": [
    "def group_list(group, users):\n",
    "    members = users\n",
    "    return \"{}:{}\".format(group,\",\".join(users))\n",
    "\n",
    "print(group_list(\"Marketing\", [\"Mike\", \"Karen\", \"Jake\", \"Tasha\"])) # Should be \"Marketing: Mike, Karen, Jake, Tasha\"\n",
    "print(group_list(\"Engineering\", [\"Kim\", \"Jay\", \"Tom\"])) # Should be \"Engineering: Kim, Jay, Tom\"\n",
    "print(group_list(\"Users\", \"\")) # Should be \"Users:\""
   ]
  },
  {
   "cell_type": "markdown",
   "metadata": {},
   "source": [
    "6. \n",
    "\n",
    "La función guest_list lee una lista de tuplas con el nombre, la edad y la profesión de cada invitado a la fiesta e imprime la oración \"El invitado tiene X años y funciona como __\". para cada uno. Por ejemplo, guest_list (('Ken', 30, \"Chef\"), (\"Pat\", 35, 'Abogado'), ('Amanda', 25, \"Engineer\")) debe imprimirse: Ken tiene 30 años y trabaja como Chef. Pat tiene 35 años y trabaja como abogada. Amanda tiene 25 años y trabaja como ingeniera. Complete los espacios en blanco en esta función para hacer eso. "
   ]
  },
  {
   "cell_type": "code",
   "execution_count": 6,
   "metadata": {},
   "outputs": [
    {
     "name": "stdout",
     "output_type": "stream",
     "text": [
      "Ken is 30 years old and works as Chef\n",
      "Pat is 35 years old and works as Lawyer\n",
      "Amanda is 25 years old and works as Engineer\n"
     ]
    },
    {
     "data": {
      "text/plain": [
       "'\\nOutput should match:\\nKen is 30 years old and works as Chef\\nPat is 35 years old and works as Lawyer\\nAmanda is 25 years old and works as Engineer\\n'"
      ]
     },
     "execution_count": 6,
     "metadata": {},
     "output_type": "execute_result"
    }
   ],
   "source": [
    "def guest_list(guests):\n",
    "\tfor guest in guests:\n",
    "\t\tname, old,  work = [x for x in guest]\n",
    "\t\tprint(\"{} is {} years old and works as {}\".format(name, old, work))\n",
    "\n",
    "guest_list([('Ken', 30, \"Chef\"), (\"Pat\", 35, 'Lawyer'), ('Amanda', 25, \"Engineer\")])\n",
    "\n",
    "#Click Run to submit code\n",
    "\"\"\"\n",
    "Output should match:\n",
    "Ken is 30 years old and works as Chef\n",
    "Pat is 35 years old and works as Lawyer\n",
    "Amanda is 25 years old and works as Engineer\n",
    "\"\"\""
   ]
  }
 ],
 "metadata": {
  "kernelspec": {
   "display_name": "Python 3",
   "language": "python",
   "name": "python3"
  },
  "language_info": {
   "codemirror_mode": {
    "name": "ipython",
    "version": 3
   },
   "file_extension": ".py",
   "mimetype": "text/x-python",
   "name": "python",
   "nbconvert_exporter": "python",
   "pygments_lexer": "ipython3",
   "version": "3.7.6"
  }
 },
 "nbformat": 4,
 "nbformat_minor": 4
}

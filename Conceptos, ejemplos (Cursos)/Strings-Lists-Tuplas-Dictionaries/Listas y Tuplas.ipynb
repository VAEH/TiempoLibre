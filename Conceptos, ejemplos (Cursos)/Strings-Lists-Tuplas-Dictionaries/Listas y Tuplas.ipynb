{
 "cells": [
  {
   "cell_type": "markdown",
   "metadata": {},
   "source": [
    "## Tuplas"
   ]
  },
  {
   "cell_type": "markdown",
   "metadata": {},
   "source": [
    "* Al usar tuplas la posición de los elementos dentro de la tupla tienen significado\n",
    "* En Python es realmente común usar tuplas para representar datos que tiene más de un valor y eso debe mantenerse unido. Por ejemplo, Nombre de archivo y su tamaño \n"
   ]
  },
  {
   "cell_type": "markdown",
   "metadata": {},
   "source": [
    "**Ejemplo**: \n",
    "Let's use tuples to store information about a file: its name, its type and its size in bytes. Fill in the gaps in this code to return the size in kilobytes (a kilobyte is 1024 bytes) up to 2 decimal places. "
   ]
  },
  {
   "cell_type": "code",
   "execution_count": 2,
   "metadata": {},
   "outputs": [
    {
     "name": "stdout",
     "output_type": "stream",
     "text": [
      "17.46\n",
      "0.48\n",
      "1.21\n"
     ]
    }
   ],
   "source": [
    "def file_size(file_info):\n",
    "\tname, types, size= file_info #toma en 3 variables la información de la tupla\n",
    "\treturn(\"{:.2f}\".format(size / 1024))\n",
    "\n",
    "print(file_size(('Class Assignment', 'docx', 17875))) # Should print 17.46\n",
    "print(file_size(('Notes', 'txt', 496))) # Should print 0.48\n",
    "print(file_size(('Program', 'py', 1239))) # Should print 1.21\n",
    "\n",
    "\n",
    "\n"
   ]
  },
  {
   "cell_type": "markdown",
   "metadata": {},
   "source": [
    "Strings y Lists son ejemplos de secuencia.\n",
    "* Strings son secuencias de carácteres y son inmutables\n",
    "* Lists son secuenciasde elementos de cualquier tipo de datos y son mutables\n",
    "* Tuples son como listas, ya que pueden contener elementos de cualquier tipo de datos. Pero a diferencia de las listas, las tuplas son inmutables. Se especifican utilizando paréntesis en lugar de corchetes\n",
    "\n",
    "Las tuplas pueden ser utiles cuando necesitamos asegurarnos de que un elemento esta en una posición determinada y no cambiara. Dado que las listas son mutables, podemos cambiar el orden de los elementos. Dado que el orden de los elementos en una tupla *no se puede cambiar*, la posición del elemento en una tupla puede tener **significado**.\n",
    "\n",
    "El orden de los valores devueltos es importante y una tupla asegura que el orden no va a cambiar. \n",
    "El almacenamiento de los elementos de una tupla en variables independientes se denomina desempaquetado. Esto le permite tomar múltiples valores devueltos de una función y almacenar cada valor en su propia variables. \n"
   ]
  },
  {
   "cell_type": "markdown",
   "metadata": {},
   "source": [
    "**Example in a Lists:** \n",
    "Try out the enumerate function for yourself in this quick exercise. Complete the skip_elements function to return every other element from the list, this time using the enumerate function to check if an element is on an even position or an odd position."
   ]
  },
  {
   "cell_type": "code",
   "execution_count": 20,
   "metadata": {},
   "outputs": [
    {
     "name": "stdout",
     "output_type": "stream",
     "text": [
      "['a', 'c', 'e', 'g']\n",
      "['Orange', 'Strawberry', 'Peach']\n"
     ]
    }
   ],
   "source": [
    "def skip_elements(elements):\n",
    "\t# code goes here\n",
    "    result_index= []\n",
    "    for index, element in enumerate(elements):\n",
    "        if index%2 == 0:\n",
    "            result_index.append(element)\n",
    "    return result_index\n",
    "\n",
    "print(skip_elements([\"a\", \"b\", \"c\", \"d\", \"e\", \"f\", \"g\"])) # Should be ['a', 'c', 'e', 'g']\n",
    "print(skip_elements(['Orange', 'Pineapple', 'Strawberry', 'Kiwi', 'Peach'])) # Should be ['Orange', 'Strawberry', 'Peach']"
   ]
  },
  {
   "cell_type": "code",
   "execution_count": 16,
   "metadata": {},
   "outputs": [],
   "source": [
    "#Esta forma es más bonita y compacta\n",
    "def skip_elements(elements):\n",
    "# code goes here\n",
    "    element = [e for i, e in enumerate(elements) if i % 2 == 0]\n",
    "    return element"
   ]
  },
  {
   "cell_type": "markdown",
   "metadata": {},
   "source": [
    "La función **enumerate ()** toma una lista como parámetro y devuelve una tupla para cada elemento de la lista. El primer valor de la tupla es el índice y el segundo valor es el elemento en sí. "
   ]
  },
  {
   "cell_type": "markdown",
   "metadata": {},
   "source": [
    "**Ejemplo:**\n",
    "En este caso se entregaran 2 tuplas dentro de una lista, la idea es leer la lista y desempaquetar los elementos que hay dentro de cada tupla, la cual contiene \"Correo electronico\" y \"Nombre de la persona\""
   ]
  },
  {
   "cell_type": "code",
   "execution_count": 21,
   "metadata": {},
   "outputs": [
    {
     "name": "stdout",
     "output_type": "stream",
     "text": [
      "['Alex Diego <alex@example.com>', 'Sergio Gomez <sergio@example.com>']\n"
     ]
    }
   ],
   "source": [
    "def full_emails(people):\n",
    "    result = []\n",
    "    for email, name in people:\n",
    "        result.append(\"{} <{}>\".format(name, email))\n",
    "    return result\n",
    "print(full_emails([(\"alex@example.com\", \"Alex Diego\"),\n",
    "                  (\"sergio@example.com\", \"Sergio Gomez\")]))"
   ]
  },
  {
   "cell_type": "markdown",
   "metadata": {},
   "source": [
    "### Listas de compresión\n",
    "Las listas por comprensión le permiten crear una nueva lista a partir de una secuencia o un rango en una sola línea. \n",
    "Por ejemplo, **[ x*2 for x in range(1,11) ]** es una simple lista de comprensión. Esto iteraría sobre el rango de 1 a 10 y multiplicaría cada elemento en el rango por 2. Esto daría como resultado una lista de múltiplos de 2, de 2 a 20.\n",
    "\n",
    "También puede usar condicionales con listas por comprensión para construir declaraciones aún más complejas y poderosas. Puede hacer esto agregando una declaración if al final de la comprensión. Por ejemplo, **[ x for x in range(1,101) if x % 10 == 0 ]** generaría una lista que contiene todos los enteros divisibles por 10 de 1 a 100. La declaración if que agregamos aquí evalúa cada valor en el rango de 1 a 100 para comprobar si es divisible por 10. Si lo es, se agrega a la lista.\n",
    "\n",
    "Las listas por comprensión pueden ser realmente poderosas, pero también pueden ser muy complejas, lo que da como resultado un código difícil de leer. Tenga cuidado al usarlos, ya que podría dificultar que otra persona que mire su código entienda fácilmente lo que está haciendo. \n",
    "\n",
    "**Ejemplo Listas de Compresión:**\n",
    "La función números impares devuelve una lista de números impares entre 1 y n, inclusive. Complete los espacios en blanco de la función, utilizando la comprensión de listas. Sugerencia: recuerde que los contadores de lista y rango comienzan en 0 y terminan en el límite menos 1. "
   ]
  },
  {
   "cell_type": "code",
   "execution_count": 23,
   "metadata": {},
   "outputs": [
    {
     "name": "stdout",
     "output_type": "stream",
     "text": [
      "[1, 3, 5]\n",
      "[1, 3, 5, 7, 9]\n",
      "[1, 3, 5, 7, 9, 11]\n",
      "[1]\n",
      "[]\n"
     ]
    }
   ],
   "source": [
    "# coding: utf-8\n",
    "# Your code here!\n",
    "def odd_numbers(n):\n",
    "\treturn [x for x in range (n+1) if x%2 != 0]\n",
    "\n",
    "print(odd_numbers(5))  # Should print [1, 3, 5]\n",
    "print(odd_numbers(10)) # Should print [1, 3, 5, 7, 9]\n",
    "print(odd_numbers(11)) # Should print [1, 3, 5, 7, 9, 11]\n",
    "print(odd_numbers(1))  # Should print [1]\n",
    "print(odd_numbers(-1)) # Should print []"
   ]
  }
 ],
 "metadata": {
  "kernelspec": {
   "display_name": "Python 3",
   "language": "python",
   "name": "python3"
  },
  "language_info": {
   "codemirror_mode": {
    "name": "ipython",
    "version": 3
   },
   "file_extension": ".py",
   "mimetype": "text/x-python",
   "name": "python",
   "nbconvert_exporter": "python",
   "pygments_lexer": "ipython3",
   "version": "3.7.6"
  }
 },
 "nbformat": 4,
 "nbformat_minor": 4
}

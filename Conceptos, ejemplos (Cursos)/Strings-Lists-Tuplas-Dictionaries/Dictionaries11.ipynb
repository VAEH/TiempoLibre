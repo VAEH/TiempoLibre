{
 "metadata": {
  "language_info": {
   "codemirror_mode": {
    "name": "ipython",
    "version": 3
   },
   "file_extension": ".py",
   "mimetype": "text/x-python",
   "name": "python",
   "nbconvert_exporter": "python",
   "pygments_lexer": "ipython3",
   "version": "3.7.6-final"
  },
  "orig_nbformat": 2,
  "kernelspec": {
   "name": "python3",
   "display_name": "Python 3",
   "language": "python"
  }
 },
 "nbformat": 4,
 "nbformat_minor": 2,
 "cells": [
  {
   "source": [
    "# Dictionaries"
   ],
   "cell_type": "markdown",
   "metadata": {}
  },
  {
   "source": [
    "Aunque los diccionarios no están ordenados, el hecho de que pueda tener valores arbitrarios para las claves le permite organizar sus datos de manera poderosa. Supongamos que desea que su programa almacene datos sobre los cumpleaños de sus amigos. Puede utilizar un diccionario con los nombres como claves y los cumpleaños como valores. Abra una nueva ventana del editor de archivos e ingrese el siguiente código. Guárdelo como *cumpleaños.py*. "
   ],
   "cell_type": "markdown",
   "metadata": {}
  },
  {
   "cell_type": "code",
   "execution_count": 6,
   "metadata": {},
   "outputs": [
    {
     "output_type": "stream",
     "name": "stdout",
     "text": [
      "Enter a name: (blank to quit)\n",
      "Apr 1 is the birthday of Alice\n",
      "Enter a name: (blank to quit)\n",
      "I do not have birthday information for victor\n",
      "What is their birthday?\n",
      "Birthday database updated.\n",
      "Enter a name: (blank to quit)\n",
      "April 12 is the birthday of victor\n",
      "Enter a name: (blank to quit)\n"
     ]
    }
   ],
   "source": [
    "\tbirthdays = {'Alice': 'Apr 1', 'Bob': 'Dec 12', 'Carol': 'Mar 4'}\n",
    "\t\n",
    "\twhile True:\n",
    "\t    print('Enter a name: (blank to quit)')\n",
    "\t    name = input()\n",
    "\t    if name == '':\n",
    "\t        break\n",
    "\t\n",
    "\t    if name in birthdays:\n",
    "\t        print(birthdays[name] + ' is the birthday of ' + name)\n",
    "\t    else:\n",
    "\t        print('I do not have birthday information for ' + name)\n",
    "\t        print('What is their birthday?')\n",
    "\t        bday = input()\n",
    "\t        birthdays[name] = bday\n",
    "\t        print('Birthday database updated.')"
   ]
  },
  {
   "source": [
    "Creas un diccionario inicial y lo guardas en los birthdays. Puede ver si el nombre ingresado existe como una clave en el diccionario con la in palabra clave, tal como lo hizo para las listas. Si el nombre está en el diccionario, acceda al valor asociado utilizando corchetes; de lo contrario, puede agregarlo usando la misma sintaxis de corchetes combinada con el operador de asignación. \n",
    "\n",
    "Link de ejecución: http://pythontutor.com/visualize.html#mode=display\n",
    "\n",
    "Al consultar el valor de un diccionario debe ser de la siguiente forma:<br>\n",
    ">>> spam = {} <br>\n",
    ">>> spam**[**'first key'**]** = 'value'<br>\n",
    ">>> spam**[**'second key'**]** = 'value'<br>\n",
    ">>> spam**[**'third key'**]** = 'value'<br>\n",
    ">>> list(spam)<br>\n",
    "**[**'first key', 'third key', 'second key'**]**\n",
    "\n",
    "\n",
    "## El método **`get()`** \n",
    "\n",
    "Es tedioso comprobar si existe una clave en un diccionario antes de acceder al valor de esa clave. Afortunadamente, los diccionarios tienen un `get()` método que toma dos argumentos: la clave del valor a recuperar y un valor de respaldo para devolver si esa clave no existe. \n"
   ],
   "cell_type": "markdown",
   "metadata": {}
  },
  {
   "cell_type": "code",
   "execution_count": 9,
   "metadata": {},
   "outputs": [
    {
     "output_type": "stream",
     "name": "stdout",
     "text": [
      "I am bringing 2 cups.\nI am bringing 0 eggs.\n"
     ]
    }
   ],
   "source": [
    "picnicItems = {'apples': 5, 'cups': 2}\n",
    "print('I am bringing ' + str(picnicItems.get('cups', 0)) + ' cups.')\n",
    "# >>> 'I am bringing 2 cups.\n",
    "print('I am bringing ' + str(picnicItems.get('eggs', 0)) + ' eggs.')\n",
    "# >>> 'I am bringing 0 eggs.'"
   ]
  },
  {
   "source": [
    "Debido a que no hay una 'eggs' key en el diccionario picnicItems, el valor predeterminado devuelve `0`  el método `get()`. Sin usar `get()`, el código habría provocado un mensaje de error, como en el siguiente ejemplo: <br>\n",
    ">> picnicItems = {'apples': 5, 'cups': 2}<br>\n",
    ">>print('I am bringing ' + str(picnicItems**[**'eggs'**]**) + ' eggs.')<br>\n",
    "\n",
    ">Traceback (most recent call last):<br>\n",
    "  File \"<pyshell#34>\", line 1, in <module><br>\n",
    "    'I am bringing ' + str(picnicItems**[**'eggs'**]**) + ' eggs.'<br>\n",
    "KeyError: 'eggs'<br>\n"
   ],
   "cell_type": "markdown",
   "metadata": {}
  },
  {
   "source": [
    "## El método `setdefault()`\n",
    "A menudo, tendrá que establecer un valor en un diccionario para una determinada clave solo si esa clave aún no tiene un valor. El código se parece a esto: <br>\n",
    ">spam = {'nombre': 'Pooka', 'edad': 5}<br>\n",
    ">si 'color' no está en spam:<br>\n",
    ">spam **[**'color'**]** = 'negro' <br>\n",
    "\n",
    "El método `setdefault()` ofrece una forma de hacer esto en una línea de código. El primer argumento que se pasa al método es la clave que se debe verificar y el segundo argumento es el valor que se debe establecer en esa clave si la clave no existe. Si la clave existe, el setdefault () método devuelve el valor de la clave. Ingrese lo siguiente en el shell interactivo:   "
   ],
   "cell_type": "markdown",
   "metadata": {}
  },
  {
   "cell_type": "code",
   "execution_count": 14,
   "metadata": {},
   "outputs": [
    {
     "output_type": "stream",
     "name": "stdout",
     "text": [
      "black\n{'name': 'Pooka', 'age': 5, 'color': 'black'}\nblack\n{'name': 'Pooka', 'age': 5, 'color': 'black'}\n"
     ]
    }
   ],
   "source": [
    "spam = {'name': 'Pooka', 'age': 5}\n",
    "print(spam.setdefault('color', 'black'))\n",
    "#>>>'black'\n",
    "print(spam)\n",
    "#>>>{'color': 'black', 'age': 5, 'name': 'Pooka'}\n",
    "print(spam.setdefault('color', 'white'))\n",
    "#>>>'black'\n",
    "print(spam)\n",
    "#>>>{'color': 'black', 'age': 5, 'name': 'Pooka'}"
   ]
  },
  {
   "source": [
    "La primera vez que se llama a `setdefault()`, el diccionario en **spam** cambia a `{'color': 'black', 'age': 5, 'name': 'Pooka'}`. El método devuelve el valor 'negro' porque ahora es el valor establecido para la clave 'color' . Cuando se llama a *spam.setdefault ('color', 'white')* a continuación, el valor de esa clave no se cambia a 'blanco' , porque el spam ya tiene una clave llamada 'color'.\n",
    "\n",
    "El método `setdefault()` es un buen atajo para asegurar que existe una clave. Aquí hay un programa corto que cuenta el número de ocurrencias de cada letra en una cadena. Abra la ventana del editor de archivos e ingrese el siguiente código, guardándolo como characterCount.py : "
   ],
   "cell_type": "markdown",
   "metadata": {}
  },
  {
   "cell_type": "code",
   "execution_count": 17,
   "metadata": {},
   "outputs": [
    {
     "output_type": "stream",
     "name": "stdout",
     "text": [
      "{'I': 1, 't': 6, ' ': 13, 'w': 2, 'a': 4, 's': 3, 'b': 1, 'r': 5, 'i': 6, 'g': 2, 'h': 3, 'c': 3, 'o': 2, 'l': 3, 'd': 3, 'y': 1, 'n': 4, 'A': 1, 'p': 1, ',': 1, 'e': 5, 'k': 2, '.': 1}\n"
     ]
    }
   ],
   "source": [
    "\tmessage = 'It was a bright cold day in April, and the clocks were striking thirteen.'\n",
    "\tcount = {}\n",
    "\t\n",
    "\tfor character in message:\n",
    "\t    count.setdefault(character, 0)\n",
    "\t    count[character] = count[character] + 1\n",
    "\t\n",
    "\tprint(count)"
   ]
  },
  {
   "source": [
    "El programa recorre cada carácter en la cadena de la variable del `message`, contando con qué frecuencia aparece cada carácter. El `setdefault()` llamada al método `count` asegura que la clave está en el recuento diccionario (con un valor por defecto de 0 ) por lo que el programa no lanzar una KeyError error al count**[**personaje**]** = count**[**personaje**]** + 1 se ejecuta. Cuando ejecute este programa, la salida se verá así: <br>\n",
    ">>{' ': 13, ',': 1, '.': 1, 'A': 1, 'I': 1, 'a': 4, 'c': 3, 'b': 1, 'e': 5, 'd': 3, 'g': 2,\n",
    "'i': 6, 'h': 3, 'k': 2, 'l': 3, 'o': 2, 'n': 4, 'p': 1, 's': 3, 'r': 5, 't': 6, 'w': 2, 'y': 1}"
   ],
   "cell_type": "markdown",
   "metadata": {}
  },
  {
   "source": [
    "theBoard = {'top-L': '', 'top-M': '', 'top-R': '',\n",
    "'mid-L': '', 'mid-M': '', 'mid-R': '',\n",
    "'low-L': '', 'low-M': '', 'low-R': ''} \n",
    "\n"
   ],
   "cell_type": "code",
   "metadata": {},
   "execution_count": 18,
   "outputs": [
    {
     "output_type": "stream",
     "name": "stdout",
     "text": [
      "{'top-L': '', 'top-M': '', 'top-R': '', 'mid-L': '', 'mid-M': '', 'mid-R': '', 'low-L': '', 'low-M': '', 'low-R': ''}\n"
     ]
    }
   ]
  },
  {
   "cell_type": "code",
   "execution_count": 20,
   "metadata": {},
   "outputs": [
    {
     "output_type": "stream",
     "name": "stdout",
     "text": [
      " | | \n",
      "-+-+-\n",
      " | | \n",
      "-+-+-\n",
      " | | \n",
      "Turn for X. Move on which space?\n",
      " | |X\n",
      "-+-+-\n",
      " | | \n",
      "-+-+-\n",
      " | | \n",
      "Turn for O. Move on which space?\n",
      " | |X\n",
      "-+-+-\n",
      " | | \n",
      "-+-+-\n",
      " | | \n",
      "Turn for X. Move on which space?\n",
      " | |X\n",
      "-+-+-\n",
      " | | \n",
      "-+-+-\n",
      " | | \n",
      "Turn for O. Move on which space?\n",
      " | |X\n",
      "-+-+-\n",
      " | | \n",
      "-+-+-\n",
      " | | \n",
      "Turn for X. Move on which space?\n",
      " | |X\n",
      "-+-+-\n",
      " | | \n",
      "-+-+-\n",
      " | | \n",
      "Turn for O. Move on which space?\n",
      " | |X\n",
      "-+-+-\n",
      " | | \n",
      "-+-+-\n",
      " | | \n",
      "Turn for X. Move on which space?\n",
      " | |X\n",
      "-+-+-\n",
      " | | \n",
      "-+-+-\n",
      " | | \n",
      "Turn for O. Move on which space?\n",
      " | |X\n",
      "-+-+-\n",
      " | | \n",
      "-+-+-\n",
      " | | \n",
      "Turn for X. Move on which space?\n",
      " | |X\n",
      "-+-+-\n",
      " | | \n",
      "-+-+-\n",
      " | | \n"
     ]
    }
   ],
   "source": [
    "\ttheBoard = {'top-L': ' ', 'top-M': ' ', 'top-R': ' ', 'mid-L': ' ', 'mid-M': ' ', 'mid-R': ' ', 'low-L': ' ', 'low-M': ' ', 'low-R': ' '}\n",
    "\t# Se crea una función para imprimir el diccionario de la pizarra en la pantall\n",
    "\tdef printBoard(board):\n",
    "\t    print(board['top-L'] + '|' + board['top-M'] + '|' + board['top-R'])\n",
    "\t    print('-+-+-')\n",
    "\t    print(board['mid-L'] + '|' + board['mid-M'] + '|' + board['mid-R'])\n",
    "\t    print('-+-+-')\n",
    "\t    print(board['low-L'] + '|' + board['low-M'] + '|' + board['low-R'])\n",
    "    #Permite a los jugadores ingresar sus movimientos\n",
    "\tturn = 'X'\n",
    "\tfor i in range(9):\n",
    "        #Imprimira un tablero en blanco\n",
    "\t    printBoard(theBoard)\n",
    "\t    print('Turn for ' + turn + '. Move on which space?')\n",
    "\t    move = input()\n",
    "\t    theBoard[move] = turn\n",
    "\t    if turn == 'X':\n",
    "\t        turn = 'O'\n",
    "\t    else:\n",
    "\t        turn = 'X'\n",
    "\tprintBoard(theBoard)\n"
   ]
  },
  {
   "cell_type": "code",
   "execution_count": null,
   "metadata": {},
   "outputs": [],
   "source": []
  }
 ]
}
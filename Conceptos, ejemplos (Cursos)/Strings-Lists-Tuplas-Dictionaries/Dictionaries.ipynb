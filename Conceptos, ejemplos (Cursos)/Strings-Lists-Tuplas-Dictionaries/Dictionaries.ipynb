{
 "cells": [
  {
   "cell_type": "markdown",
   "metadata": {},
   "source": [
    "# Dictionaries"
   ]
  },
  {
   "cell_type": "markdown",
   "metadata": {},
   "source": [
    "Los diccionarios son otra estructura de datos en Python. Son similares a una lista en el sentido de que se pueden usar para organizar datos en colecciones. Sin embargo, no se accede a los datos de un diccionario según su posición. Los datos de un diccionario se organizan en pares de claves y valores. Utiliza la clave para acceder al valor correspondiente. Cuando un índice de lista es siempre un número, una clave de diccionario puede ser un tipo de datos diferente, como una cadena, un entero, un flotante o incluso una tupla. \n",
    "\n",
    "Al crear un diccionario, usa llaves: **{}** . Al almacenar valores en un diccionario, primero se especifica la *clave*, seguida del valor correspondiente, separado por dos puntos. Por ejemplo, **animales = {\"osos\": 10, \"leones\": 1, \"tigres\": 2}** crea un diccionario con tres pares de valores clave, almacenados en la variable animales. La clave \"osos\" apunta al valor entero 10, mientras que la clave \"leones\" apunta al valor entero 1, y \"tigres\" apunta al entero 2. Puedes acceder a los valores haciendo referencia a la clave, así: **animales [ \"osos\"]** . Esto devolvería el entero 10, ya que ese es el valor correspondiente para esta clave.\n",
    "\n",
    "También puede verificar si una clave está contenida en un diccionario usando la **in** palabra clave . Al igual que otros usos de esta palabra clave, devolverá **True** si la clave se encuentra en el diccionario; de lo contrario, devolverá **False**.\n",
    "\n",
    "Los diccionarios son *mutables*, lo que significa que se pueden modificar agregando, quitando y reemplazando elementos en un diccionario, similar a las listas. Puede agregar un nuevo par clave-valor a un diccionario asignando un valor a la clave, como este: **animales[\"cebras\"] = 2** . Esto crea la nueva clave en el diccionario de animales llamada cebras y almacena el valor 2. Puede modificar el valor de una clave existente haciendo lo mismo. Entonces, **animals[\"osos\"] = 11** cambiaría el valor almacenado en la clave osos de 10 a 11. Por último, puedes eliminar elementos de un diccionario usando la **del** palabra clave . Al hacer **del animals[\"leones\"]** eliminaría el par clave-valor del diccionario de animales. "
   ]
  },
  {
   "cell_type": "code",
   "execution_count": 4,
   "metadata": {},
   "outputs": [
    {
     "name": "stdout",
     "output_type": "stream",
     "text": [
      "There are 10 file with the.jpg extension\n",
      "There are 14 file with the.txt extension\n",
      "There are 2 file with the.csv extension\n",
      "There are 23 file with the.py extension\n"
     ]
    }
   ],
   "source": [
    "file_counts = {\"jpg\":10,\"txt\":14, \"csv\":2, \"py\":23}\n",
    "for ext, amount in file_counts.items():\n",
    "    print(\"There are {} file with the.{} extension\".format(amount, ext))"
   ]
  },
  {
   "cell_type": "markdown",
   "metadata": {},
   "source": [
    "Se puede usar dos tipos de extensión de python para imprimir las claves y los valores corrspondientes dentro del diccionario **.keys()** y **values()**.\n",
    "Los diccionarios son una gran herramienta para contar elementos y analizar la frecuencia"
   ]
  },
  {
   "cell_type": "code",
   "execution_count": 5,
   "metadata": {},
   "outputs": [],
   "source": [
    "#Ejemplo de como se utiliza un diccionario para contar el número de letras de una palabra\n",
    "def count_letters(text):\n",
    "    result = {}\n",
    "    for letter in text:\n",
    "        if letter not in result:\n",
    "            result[letter] = 0\n",
    "        result[letter] +=1\n",
    "    return result"
   ]
  },
  {
   "cell_type": "markdown",
   "metadata": {},
   "source": [
    "#### Iterando dobre diccionarios\n",
    "\n",
    "Puede iterar sobre diccionarios usando un for bucle , al igual que con cadenas, listas y tuplas. Esto iterará sobre la secuencia de claves en el diccionario. Si desea acceder a los valores correspondientes asociados con las claves, puede utilizar las claves como índices. O puede utilizar el **items** método de en el diccionario, como **dictionary.items()** . Este método devuelve una tupla para cada elemento del diccionario, donde el primer elemento de la tupla es la clave y el segundo es el valor.\n",
    "\n",
    "Si solo desea acceder a las claves de un diccionario, puede utilizar el **keys()** método en el diccionario: **dictionary.keys()**. Si solo desea los valores, puede usar el **values()** método : **dictionary.values()** . "
   ]
  },
  {
   "cell_type": "markdown",
   "metadata": {},
   "source": [
    "¿Cuando es mejor usar una lista y cuándo es el diccionario el camino a seguir?\n",
    "Es importante pensar en el tipo de de indormación que puede representar en cada estructura de datos. Si tienes una lista de\n",
    "información que le gustaría recopilar y\n",
    "usar en su script entonces\n",
    "la lista es probablemente el enfoque correcto.\n",
    "Por ejemplo, si desea almacenar\n",
    "una serie de direcciones IP para hacer ping,\n",
    "podría ponerlos todos en una lista e iterar sobre ellos.\n",
    "O si tuvieras una lista de\n",
    "nombres de host y sus correspondientes direcciones IP,\n",
    "es posible que desee emparejarlos como\n",
    "valores clave en un diccionario. \n",
    "\n",
    "- Entonces, en general, quieres usar\n",
    "diccionarios cuando planeas\n",
    "buscando un elemento específico. \n",
    "- En las listas, puede almacenar cualquier tipo de datos.\n",
    "En los diccionarios, podemos almacenar cualquier tipo de datos para\n",
    "los valores, pero las claves están restringidas a tipos específicos.\n",
    "\n",
    "Entonces, como regla general,\n",
    "puede utilizar cualquier tipo de datos inmutables;\n",
    "números, valores booleanos, cadenas y tuplas como claves de diccionario.\n",
    "Pero no puedes usar listas o diccionarios para eso. \n"
   ]
  },
  {
   "cell_type": "markdown",
   "metadata": {},
   "source": [
    "##### Example\n",
    "In Python, a dictionary can only hold a single value for a given key. To workaround this, our single value can be a list containing multiple values. Here we have a dictionary called \"wardrobe\" with items of clothing and their colors. Fill in the blanks to print a line for each item of clothing with each color, for example: \"red shirt\", \"blue shirt\", and so on."
   ]
  },
  {
   "cell_type": "code",
   "execution_count": 6,
   "metadata": {},
   "outputs": [
    {
     "name": "stdout",
     "output_type": "stream",
     "text": [
      "red shirt\n",
      "blue shirt\n",
      "white shirt\n",
      "blue jeans\n",
      "black jeans\n"
     ]
    }
   ],
   "source": [
    "#Ejemplo diccionario con un valor de tipo lista\n",
    "wardrobe = {\"shirt\":[\"red\",\"blue\",\"white\"], \"jeans\":[\"blue\",\"black\"]}\n",
    "for clothe, colors in wardrobe.items():\n",
    "\tfor color in colors:\n",
    "\t\tprint(\"{} {}\".format(color, clothe))"
   ]
  },
  {
   "cell_type": "markdown",
   "metadata": {},
   "source": [
    "* **Set** se usa cuando desea almacenar un montón de elementos y asegúrese de que solo estén presentes una vez"
   ]
  },
  {
   "cell_type": "markdown",
   "metadata": {},
   "source": [
    "## Dictionary Methods Cheat Sheet\n",
    "Dictionary Methods Cheat Sheet\n",
    "\n",
    "**Definition**\n",
    "\n",
    "x = {key1:value1, key2:value2}\n",
    "\n",
    "**Operations**\n",
    "\n",
    "*    len(dictionary) - Returns the number of items in the dictionary\n",
    "*    for key in dictionary - Iterates over each key in the dictionary\n",
    "*    for key, value in dictionary.items() - Iterates over each key,value pair in the dictionary\n",
    "*    if key in dictionary - Checks whether the key is in the dictionary\n",
    "*    dictionary[key] - Accesses the item with key key of the dictionary\n",
    "*    dictionary[key] = value - Sets the value associated with key\n",
    "*    del dictionary[key] - Removes the item with key key from the dictionary\n",
    "\n",
    "**Methods**\n",
    "\n",
    "*    dict.get(key, default) - Returns the element corresponding to key, or default if it's not present *(devuelve el elemento correspondiente a la clave, o predeterminado si no está presente )*\n",
    "*    dict.keys() - Returns a sequence containing the keys in the dictionary\n",
    "*    dict.values() - Returns a sequence containing the values in the dictionary\n",
    "*    dict.update(other_dictionary) - Updates the dictionary with the items coming from the other dictionary. Existing entries will be replaced; new entries will be added. *( actualiza el diccionario con los elementos del otro diccionario. Las entradas existentes serán reemplazadas; se agregarán nuevas entradas. )*\n",
    "*    dict.clear() - Removes all the items of the dictionary *(elimina todos los elementos del diccionario )*\n",
    "\n",
    "Check out the [official documentation for dictionary operations and methods](https://docs.python.org/3/library/stdtypes.html#mapping-types-dict)"
   ]
  }
 ],
 "metadata": {
  "kernelspec": {
   "display_name": "Python 3",
   "language": "python",
   "name": "python3"
  },
  "language_info": {
   "codemirror_mode": {
    "name": "ipython",
    "version": 3
   },
   "file_extension": ".py",
   "mimetype": "text/x-python",
   "name": "python",
   "nbconvert_exporter": "python",
   "pygments_lexer": "ipython3",
   "version": "3.7.6"
  }
 },
 "nbformat": 4,
 "nbformat_minor": 4
}

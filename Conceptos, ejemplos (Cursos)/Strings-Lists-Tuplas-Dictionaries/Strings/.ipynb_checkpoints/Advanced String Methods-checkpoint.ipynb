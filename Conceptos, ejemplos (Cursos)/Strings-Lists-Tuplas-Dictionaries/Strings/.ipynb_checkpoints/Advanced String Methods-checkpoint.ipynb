{
 "cells": [
  {
   "cell_type": "markdown",
   "metadata": {},
   "source": [
    "# Advanced String Methods "
   ]
  },
  {
   "cell_type": "markdown",
   "metadata": {},
   "source": [
    "We've covered a bunch of String class methods already, so let's keep building on those and run down some more advanced methods.\n",
    "\n",
    "The string method **lower** will return the string with all characters changed to lowercase. The inverse of this is the **upper** method, which will return the string all in uppercase. Just like with previous methods, we call these on a string using dot notation, like **\"this is a string\".upper()**. This would return the string **\"THIS IS A STRING\"**. This can be super handy when checking user input, since someone might type in all lowercase, all uppercase, or even a mixture of cases.\n",
    "\n",
    "You can use the **strip** method to remove surrounding whitespace from a string. Whitespace includes spaces, tabs, and newline characters. You can also use the methods  **lstrip** and **rstrip** to remove whitespace only from the left or the right side of the string, respectively.\n",
    "\n",
    "The method **count** can be used to return the number of times a substring appears in a string. This can be handy for finding out how many characters appear in a string, or counting the number of times a certain word appears in a sentence or paragraph.\n",
    "\n",
    "If you wanted to check if a string ends with a given substring, you can use the method **endswith**. This will return True if the substring is found at the end of the string, and False if not.\n",
    "\n",
    "The **isnumeric** method can check if a string is composed of only numbers. If the string contains only numbers, this method will return True. We can use this to check if a string contains numbers before passing the string to the **int()** function to convert it to an integer, avoiding an error. Useful!\n",
    "\n",
    "We took a look at string concatenation using the plus sign, earlier. We can also use the **join** method to concatenate strings. This method is called on a string that will be used to join a list of strings. The method takes a list of strings to be joined as a parameter, and returns a new string composed of each of the strings from our list joined using the initial string. For example, **\" \".join([\"This\",\"is\",\"a\",\"sentence\"])** would return the string **\"This is a sentence\"*.\n",
    "\n",
    "The inverse of the join method is the **split** method. This allows us to split a string into a list of strings. By default, it splits by any whitespace characters. You can also split by any other characters by passing a parameter."
   ]
  },
  {
   "cell_type": "markdown",
   "metadata": {},
   "source": [
    "## String reference Cheat Sheet"
   ]
  },
  {
   "cell_type": "markdown",
   "metadata": {},
   "source": [
    "En Python, hay muchas cosas que puede hacer con cadenas. En esta hoja de referencia, encontrará las operaciones y los métodos de cadena más comunes."
   ]
  },
  {
   "cell_type": "markdown",
   "metadata": {},
   "source": [
    "#### String operations\n",
    "\n",
    "-    len(string) Returns the length of the string\n",
    "-    for character in string Iterates over each character in the string\n",
    "-    if substring in string Checks whether the substring is part of the string\n",
    "-    string[i] Accesses the character at index i of the string, starting at zero\n",
    "-    string[i:j] Accesses the substring starting at index i, ending at index j-1. If i is omitted, it's 0 by default. If j is omitted, it's len(string) by default.\n",
    "\n",
    "\n",
    "#### String methods\n",
    "\n",
    "-    string.lower() / string.upper() Returns a copy of the string with all lower / upper case characters\n",
    "-    string.lstrip() / string.rstrip() / string.strip() Returns a copy of the string without left / right / left or right whitespace\n",
    "-    string.count(substring) Returns the number of times substring is present in the string\n",
    "-    string.isnumeric() Returns True if there are only numeric characters in the string. If not, returns False.\n",
    "-    string.isalpha() Returns True if there are only alphabetic characters in the string. If not, returns False.\n",
    "-    string.split() / string.split(delimiter) Returns a list of substrings that were separated by whitespace / delimiter\n",
    "-    string.replace(old, new) Returns a new string where all occurrences of old have been replaced by new.\n",
    "-    delimiter.join(list of strings) Returns a new string with all the strings joined by the delimiter \n",
    "\n",
    "Check out the official documentation for all available String methods.  https://docs.python.org/3/library/stdtypes.html#string-methods "
   ]
  },
  {
   "cell_type": "code",
   "execution_count": null,
   "metadata": {},
   "outputs": [],
   "source": []
  }
 ],
 "metadata": {
  "kernelspec": {
   "display_name": "Python 3",
   "language": "python",
   "name": "python3"
  },
  "language_info": {
   "codemirror_mode": {
    "name": "ipython",
    "version": 3
   },
   "file_extension": ".py",
   "mimetype": "text/x-python",
   "name": "python",
   "nbconvert_exporter": "python",
   "pygments_lexer": "ipython3",
   "version": "3.7.6"
  }
 },
 "nbformat": 4,
 "nbformat_minor": 4
}

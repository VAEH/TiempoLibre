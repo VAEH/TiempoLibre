{
 "cells": [
  {
   "cell_type": "markdown",
   "metadata": {},
   "source": [
    "Esta es la forma de hacerlo sin utilizar las librerias de Python "
   ]
  },
  {
   "cell_type": "code",
   "execution_count": 3,
   "metadata": {
    "scrolled": true
   },
   "outputs": [
    {
     "name": "stdout",
     "output_type": "stream",
     "text": [
      "Enter No of rows of 1st Matrix: 3\n",
      "Enter No of columns of 1st Matrix: 3\n",
      "Enter No of rows of 2nd Matrix: 3\n",
      "Enter No of columns of 2nd Matrix: 3\n",
      "\n",
      "Enter The Values in the matrix 1: \n",
      "1\n",
      "2\n",
      "3\n",
      "4\n",
      "5\n",
      "6\n",
      "7\n",
      "8\n",
      "9\n",
      "1 2 3 \n",
      "4 5 6 \n",
      "7 8 9 \n",
      "\n",
      "Enter The Values in the matrix 2: \n",
      "1\n",
      "2\n",
      "3\n",
      "4\n",
      "5\n",
      "6\n",
      "7\n",
      "8\n",
      "9\n",
      "1 2 3 \n",
      "4 5 6 \n",
      "7 8 9 \n",
      "\n",
      "Result is: \n",
      "\n",
      "[30, 36, 42]\n",
      "[66, 81, 96]\n",
      "[102, 126, 150]\n"
     ]
    }
   ],
   "source": [
    "r1 = int(input(\"Enter No of rows of 1st Matrix: \"))\n",
    "c1 = int(input(\"Enter No of columns of 1st Matrix: \"))\n",
    "\n",
    "r2 = int(input(\"Enter No of rows of 2nd Matrix: \"))\n",
    "c2 = int(input(\"Enter No of columns of 2nd Matrix: \"))\n",
    "\n",
    "# for matrix multiplication to be possible no of columns in matrix 1 = no of rows in matrix 2\n",
    "\n",
    "if c1==r2:\n",
    "    mat1 = []\n",
    "\n",
    "    mat2 = []\n",
    "\n",
    "    result = []\n",
    "\n",
    "    print(\"\\nEnter The Values in the matrix 1: \")\n",
    "\n",
    "    for i in range(r1):\n",
    "        g=[]\n",
    "        for j in range(c1):\n",
    "            g.append(int(input()))\n",
    "        mat1.append(g)\n",
    "\n",
    "    for i in range(r1): \n",
    "        for j in range(c1): \n",
    "            print(mat1[i][j], end = \" \") \n",
    "        print()\n",
    "    print(\"\\nEnter The Values in the matrix 2: \")\n",
    "\n",
    "    for i in range(r2):\n",
    "        g=[]\n",
    "        for j in range(c2):\n",
    "            g.append(int(input()))\n",
    "        mat2.append(g)\n",
    "\n",
    "    for i in range(r2): \n",
    "        for j in range(c2): \n",
    "            print(mat2[i][j], end = \" \") \n",
    "        print()\n",
    "    for r in range(r1):\n",
    "        u=[]\n",
    "        for s in range(c2):\n",
    "            u.append(int(0))\n",
    "        result.append(u)\n",
    "\n",
    "    for r in range(r1): \n",
    "        for s in range(c2): \n",
    "            result[r][s]\n",
    "\n",
    "    print(\"\\nResult is: \\n\")\n",
    "\n",
    "\n",
    "    # iterate through rows of r1\n",
    "    for x in range(len(mat1)):\n",
    "       # iterate through columns of c2\n",
    "       for y in range(len(mat2[0])):\n",
    "           # iterate through rows of r2\n",
    "           for z in range(len(mat2)):\n",
    "                result[x][y] += mat1[x][z] * mat2[z][y]\n",
    "    for r in result:\n",
    "        print(r)\n",
    "else:\n",
    "    print(\"\\nNot possible\")"
   ]
  },
  {
   "cell_type": "markdown",
   "metadata": {},
   "source": [
    "Y esta utilizando la libreria Numpy de python"
   ]
  },
  {
   "cell_type": "code",
   "execution_count": null,
   "metadata": {},
   "outputs": [],
   "source": []
  },
  {
   "cell_type": "code",
   "execution_count": 5,
   "metadata": {},
   "outputs": [
    {
     "data": {
      "text/plain": [
       "array([[ 30,  36,  42],\n",
       "       [ 66,  81,  96],\n",
       "       [102, 126, 150]])"
      ]
     },
     "execution_count": 5,
     "metadata": {},
     "output_type": "execute_result"
    }
   ],
   "source": [
    "import numpy as np\n",
    "\n",
    "a1 = np.array([[1,2,3],\n",
    "              [4,5,6],\n",
    "              [7,8,9]])\n",
    "\n",
    "a2 = np.array([[1,2,3],\n",
    "              [4,5,6],\n",
    "              [7,8,9]])\n",
    "\n",
    "Answer = np.matmul(a1,a2)\n",
    "Answer"
   ]
  },
  {
   "cell_type": "markdown",
   "metadata": {},
   "source": [
    "Link de donde se saco la Info: https://towardsdatascience.com/python-coding-from-scratch-matrix-multiplication-without-any-machine-learning-libraries-463624fe8726 \n",
    " \n",
    "Y el autor: https://gist.github.com/Bharath-K3\n",
    "        "
   ]
  },
  {
   "cell_type": "code",
   "execution_count": null,
   "metadata": {},
   "outputs": [],
   "source": []
  }
 ],
 "metadata": {
  "kernelspec": {
   "display_name": "Python 3",
   "language": "python",
   "name": "python3"
  },
  "language_info": {
   "codemirror_mode": {
    "name": "ipython",
    "version": 3
   },
   "file_extension": ".py",
   "mimetype": "text/x-python",
   "name": "python",
   "nbconvert_exporter": "python",
   "pygments_lexer": "ipython3",
   "version": "3.7.6"
  }
 },
 "nbformat": 4,
 "nbformat_minor": 4
}

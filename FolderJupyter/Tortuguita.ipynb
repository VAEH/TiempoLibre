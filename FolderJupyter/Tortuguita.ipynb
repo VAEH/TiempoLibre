{
 "cells": [
  {
   "cell_type": "code",
   "execution_count": 1,
   "metadata": {},
   "outputs": [],
   "source": [
    "import turtle\n",
    "clock = turtle.Turtle()\n",
    "wn =turtle.Screen()\n",
    "wn.setup(620,620)\n",
    "wn.bgcolor(\"black\")\n",
    "clock.shape(\"turtle\")\n",
    "#turtle.shapesize(2)\n",
    "clock.pencolor('red')\n",
    "clock.penup()\n",
    "clock.setpos(0, -250)\n",
    "clock.pendown()\n",
    "clock.pensize(5)\n",
    "clock.pencolor('white')\n",
    "clock.circle(150)\n",
    "#print(jejejjee)\n",
    "#write('jejjeejjee')\n",
    "clock.penup()"
   ]
  },
  {
   "cell_type": "code",
   "execution_count": null,
   "metadata": {},
   "outputs": [],
   "source": []
  },
  {
   "cell_type": "code",
   "execution_count": null,
   "metadata": {},
   "outputs": [],
   "source": []
  }
 ],
 "metadata": {
  "kernelspec": {
   "display_name": "Python 3",
   "language": "python",
   "name": "python3"
  },
  "language_info": {
   "codemirror_mode": {
    "name": "ipython",
    "version": 3
   },
   "file_extension": ".py",
   "mimetype": "text/x-python",
   "name": "python",
   "nbconvert_exporter": "python",
   "pygments_lexer": "ipython3",
   "version": "3.7.6"
  }
 },
 "nbformat": 4,
 "nbformat_minor": 4
}

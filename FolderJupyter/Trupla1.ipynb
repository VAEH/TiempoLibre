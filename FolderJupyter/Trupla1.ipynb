{
 "cells": [
  {
   "cell_type": "code",
   "execution_count": 3,
   "metadata": {},
   "outputs": [
    {
     "name": "stdout",
     "output_type": "stream",
     "text": [
      "['deja', 'allí', 'Pero', 'ver', 'qué', 'luz', 'se']\n"
     ]
    }
   ],
   "source": [
    "txt = 'Pero qué luz se deja ver allí'\n",
    "palabras = txt.split()\n",
    "t = list()\n",
    "for palabra in palabras:\n",
    "    t.append((len(palabra), palabra))\n",
    "t.sort(reverse=True)\n",
    "res = list()\n",
    "for longitud, palabra in t:\n",
    "    res.append(palabra)\n",
    "print (res)\n",
    " "
   ]
  },
  {
   "attachments": {},
   "cell_type": "markdown",
   "metadata": {},
   "source": [
    "El primer bucle crea una lista de tuplas, en la que cada tupla es la palabra precedida\n",
    "por su longitud.\n",
    "**Sort** compara el primer elemento (longitud), y s´olo tiene en cuenta el segundo en\n",
    "caso de empate. El argumento clave reverse=True indica a sort que debe ir en\n",
    "orden decreciente.\n",
    "El segundo bucle recorre la lista de tuplas y crea una lista de palabras en orden\n",
    "descendente seg´un su longitud. Las palabras con cuatro caracteres, por ejemplo,\n",
    "son ordenadas en orden alfab´etico inverso, de modo que “deja” aparece antes que\n",
    "“all´ı” en esa lista.\n"
   ]
  },
  {
   "cell_type": "raw",
   "metadata": {},
   "source": []
  },
  {
   "cell_type": "code",
   "execution_count": null,
   "metadata": {},
   "outputs": [],
   "source": []
  }
 ],
 "metadata": {
  "kernelspec": {
   "display_name": "Python 3",
   "language": "python",
   "name": "python3"
  },
  "language_info": {
   "codemirror_mode": {
    "name": "ipython",
    "version": 3
   },
   "file_extension": ".py",
   "mimetype": "text/x-python",
   "name": "python",
   "nbconvert_exporter": "python",
   "pygments_lexer": "ipython3",
   "version": "3.7.6"
  }
 },
 "nbformat": 4,
 "nbformat_minor": 4
}
